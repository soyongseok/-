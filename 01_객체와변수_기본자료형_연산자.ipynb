{
  "nbformat": 4,
  "nbformat_minor": 0,
  "metadata": {
    "colab": {
      "name": "01-객체와변수_기본자료형_연산자.ipynb",
      "provenance": [],
      "collapsed_sections": [],
      "authorship_tag": "ABX9TyMWonKDJWpwJqwI36EXXDym",
      "include_colab_link": true
    },
    "kernelspec": {
      "name": "python3",
      "display_name": "Python 3"
    },
    "language_info": {
      "name": "python"
    }
  },
  "cells": [
    {
      "cell_type": "markdown",
      "metadata": {
        "id": "view-in-github",
        "colab_type": "text"
      },
      "source": [
        "<a href=\"https://colab.research.google.com/github/soyongseok/-/blob/main/01_%EA%B0%9D%EC%B2%B4%EC%99%80%EB%B3%80%EC%88%98_%EA%B8%B0%EB%B3%B8%EC%9E%90%EB%A3%8C%ED%98%95_%EC%97%B0%EC%82%B0%EC%9E%90.ipynb\" target=\"_parent\"><img src=\"https://colab.research.google.com/assets/colab-badge.svg\" alt=\"Open In Colab\"/></a>"
      ]
    },
    {
      "cell_type": "markdown",
      "source": [
        "# 값(객체), 변수, 키워드(Keyword)\n",
        "- 값(객체)\n",
        "    - 객체라고 함\n",
        "    - 프로그래밍에서 처리해야하는 대상\n",
        "    - 수, 문자, 이미지, 음성 등\n",
        "## 변수\n",
        "    - 값을 담을 수 있는 공간\n",
        "    - 객체의 위치(주소)를 갖고 있는 공간\n",
        "\n",
        "# 키워드\n",
        "- 파이썬에서 이미 예약되어있는 예약어다. (문법적인 요소)"
      ],
      "metadata": {
        "id": "40PTArGWmELl"
      }
    },
    {
      "cell_type": "code",
      "source": [
        "x = 1004\n",
        "x"
      ],
      "metadata": {
        "colab": {
          "base_uri": "https://localhost:8080/"
        },
        "id": "MzPIGpJGmbtC",
        "outputId": "e0774fe3-b229-48af-e269-d3ba6df1cd26"
      },
      "execution_count": null,
      "outputs": [
        {
          "output_type": "execute_result",
          "data": {
            "text/plain": [
              "1004"
            ]
          },
          "metadata": {},
          "execution_count": 2
        }
      ]
    },
    {
      "cell_type": "code",
      "source": [
        "y = x\n",
        "y"
      ],
      "metadata": {
        "colab": {
          "base_uri": "https://localhost:8080/"
        },
        "id": "3DtilCqBoUHn",
        "outputId": "b48f72f5-4350-4ce7-e3d7-fbc2a3ca4bac"
      },
      "execution_count": null,
      "outputs": [
        {
          "output_type": "execute_result",
          "data": {
            "text/plain": [
              "1004"
            ]
          },
          "metadata": {},
          "execution_count": 3
        }
      ]
    },
    {
      "cell_type": "code",
      "source": [
        "id(x) , id(y) # 주소값이 같다."
      ],
      "metadata": {
        "colab": {
          "base_uri": "https://localhost:8080/"
        },
        "id": "T39ppM37oet6",
        "outputId": "43bb4da5-14d8-4542-ff89-bbc076dbdcef"
      },
      "execution_count": null,
      "outputs": [
        {
          "output_type": "execute_result",
          "data": {
            "text/plain": [
              "(140119668054320, 140119668054672)"
            ]
          },
          "metadata": {},
          "execution_count": 7
        }
      ]
    },
    {
      "cell_type": "code",
      "source": [
        "x = 1001\n",
        "y = 1001\n",
        "\n",
        "id(x), id(y)   # 주소값이 다르다."
      ],
      "metadata": {
        "colab": {
          "base_uri": "https://localhost:8080/"
        },
        "id": "_leJsksaowNu",
        "outputId": "6784c2e8-31e2-4e64-ca44-6a3bedfbd0a8"
      },
      "execution_count": null,
      "outputs": [
        {
          "output_type": "execute_result",
          "data": {
            "text/plain": [
              "(140119668055248, 140119668055376)"
            ]
          },
          "metadata": {},
          "execution_count": 8
        }
      ]
    },
    {
      "cell_type": "markdown",
      "source": [
        "## 변수를 왜 사용하는가?\n",
        "- 코드의 재활용성과 가독성을 높여주고, 중복을 제거하여 유지보수를 용이"
      ],
      "metadata": {
        "id": "OX6AnzRgo_gf"
      }
    },
    {
      "cell_type": "code",
      "source": [
        "print(9*1)\n",
        "print(9*2)\n",
        "print(9*3)\n",
        "print(9*4)\n",
        "print(9*5)\n",
        "print(9*6)\n",
        "print(9*7)\n",
        "print(9*8)\n",
        "print(9*9)"
      ],
      "metadata": {
        "colab": {
          "base_uri": "https://localhost:8080/"
        },
        "id": "L8IctLBSpZQB",
        "outputId": "b3743b33-6fef-4408-f86f-d0db018eead0"
      },
      "execution_count": null,
      "outputs": [
        {
          "output_type": "stream",
          "name": "stdout",
          "text": [
            "9\n",
            "18\n",
            "27\n",
            "36\n",
            "45\n",
            "54\n",
            "63\n",
            "72\n",
            "81\n"
          ]
        }
      ]
    },
    {
      "cell_type": "code",
      "source": [
        "n = int(input())\n",
        "print(n*1)\n",
        "print(n*2)\n",
        "print(n*3)\n",
        "print(n*4)\n",
        "print(n*5)\n",
        "print(n*6)\n",
        "print(n*7)\n",
        "print(n*8)\n",
        "print(n*9)"
      ],
      "metadata": {
        "colab": {
          "base_uri": "https://localhost:8080/"
        },
        "id": "VRin8TslpmHm",
        "outputId": "68ee325f-a148-4395-c148-8072ad971568"
      },
      "execution_count": 1,
      "outputs": [
        {
          "output_type": "stream",
          "name": "stdout",
          "text": [
            "3\n",
            "3\n",
            "6\n",
            "9\n",
            "12\n",
            "15\n",
            "18\n",
            "21\n",
            "24\n",
            "27\n"
          ]
        }
      ]
    },
    {
      "cell_type": "markdown",
      "source": [
        "## 특별한 변수 언더바('_')\n",
        "- 대화형 환경에서 마지막으로 실행된 반환결과를 '_'에 자동할당"
      ],
      "metadata": {
        "id": "dOKFt88-p1hk"
      }
    },
    {
      "cell_type": "code",
      "source": [
        "a = 3\n",
        "a"
      ],
      "metadata": {
        "colab": {
          "base_uri": "https://localhost:8080/"
        },
        "id": "XTfp5jbBp833",
        "outputId": "0dd7531f-5b7e-4141-d2a6-98fb85491d2e"
      },
      "execution_count": null,
      "outputs": [
        {
          "output_type": "execute_result",
          "data": {
            "text/plain": [
              "3"
            ]
          },
          "metadata": {},
          "execution_count": 11
        }
      ]
    },
    {
      "cell_type": "code",
      "source": [
        "_"
      ],
      "metadata": {
        "colab": {
          "base_uri": "https://localhost:8080/"
        },
        "id": "IXTDYGURqRkq",
        "outputId": "2a46902e-0878-4e28-a643-434a564b80e7"
      },
      "execution_count": null,
      "outputs": [
        {
          "output_type": "execute_result",
          "data": {
            "text/plain": [
              "3"
            ]
          },
          "metadata": {},
          "execution_count": 12
        }
      ]
    },
    {
      "cell_type": "markdown",
      "source": [
        "## 상수\n",
        "- 변하지 않는 수\n",
        "- 프로그램 시작부터 종료까지 변하지 않는 변수\n",
        "- 파이썬에서는 상수를 지원해주지 않는다.\n"
      ],
      "metadata": {
        "id": "BitC6N8EqSDg"
      }
    },
    {
      "cell_type": "code",
      "source": [
        "DATA_PATH = \"/dir/train/\"   # 대문자 = 상수(매너)"
      ],
      "metadata": {
        "id": "A-k5WCvSs8Iu"
      },
      "execution_count": null,
      "outputs": []
    },
    {
      "cell_type": "markdown",
      "source": [
        "## 변수 이름 규칙\n",
        "- 대소문자를 구분\n",
        "- 알파벳, 숫자, 언더바(_)\n",
        "- 변수명 첫 글자에 숫자는 문법오류가 발생\n",
        "- Python 키워드 및 정의된 함수 및 클래스명으로 사용 불가\n"
      ],
      "metadata": {
        "id": "JXb05jMGtS6_"
      }
    },
    {
      "cell_type": "code",
      "source": [
        "1a = 1"
      ],
      "metadata": {
        "colab": {
          "base_uri": "https://localhost:8080/",
          "height": 136
        },
        "id": "sDDip8G4tyVo",
        "outputId": "6fa3a558-d7f1-4ec5-d5ca-a5112fdb2741"
      },
      "execution_count": null,
      "outputs": [
        {
          "output_type": "error",
          "ename": "SyntaxError",
          "evalue": "ignored",
          "traceback": [
            "\u001b[0;36m  File \u001b[0;32m\"<ipython-input-14-cc67e5ecf289>\"\u001b[0;36m, line \u001b[0;32m1\u001b[0m\n\u001b[0;31m    1a = 1\u001b[0m\n\u001b[0m     ^\u001b[0m\n\u001b[0;31mSyntaxError\u001b[0m\u001b[0;31m:\u001b[0m invalid syntax\n"
          ]
        }
      ]
    },
    {
      "cell_type": "code",
      "source": [
        "if = 1"
      ],
      "metadata": {
        "colab": {
          "base_uri": "https://localhost:8080/",
          "height": 136
        },
        "id": "lXXAOt4ut1xV",
        "outputId": "1ec4132f-61d0-4002-8c7f-2046a7ce6191"
      },
      "execution_count": null,
      "outputs": [
        {
          "output_type": "error",
          "ename": "SyntaxError",
          "evalue": "ignored",
          "traceback": [
            "\u001b[0;36m  File \u001b[0;32m\"<ipython-input-15-773eba7f7781>\"\u001b[0;36m, line \u001b[0;32m1\u001b[0m\n\u001b[0;31m    if = 1\u001b[0m\n\u001b[0m       ^\u001b[0m\n\u001b[0;31mSyntaxError\u001b[0m\u001b[0;31m:\u001b[0m invalid syntax\n"
          ]
        }
      ]
    },
    {
      "cell_type": "code",
      "source": [
        "print"
      ],
      "metadata": {
        "colab": {
          "base_uri": "https://localhost:8080/"
        },
        "id": "uv5abb73t7an",
        "outputId": "f59cd7e0-0ab9-4721-9b14-f2640c64ac1a"
      },
      "execution_count": null,
      "outputs": [
        {
          "output_type": "execute_result",
          "data": {
            "text/plain": [
              "<function print>"
            ]
          },
          "metadata": {},
          "execution_count": 17
        }
      ]
    },
    {
      "cell_type": "markdown",
      "source": [
        "# 자료형 (data type)\n",
        "- 파이썬은 기본적으로 4가지 자료형이 있다.\n",
        "    - 'int' : -1,,0,3 정수를 의미\n",
        "    - 'float' : 3.14,3.0,-1.5 와 같은 실수를 의미\n",
        "    - 'bool' : 참(True) / 거짓(False) 을 나타내는 논리자료형을 의미\n",
        "    - 'str' : 문자열을 의미"
      ],
      "metadata": {
        "id": "Gyq_I6E8uGyQ"
      }
    },
    {
      "cell_type": "code",
      "source": [
        "a = 1\n",
        "type(a)"
      ],
      "metadata": {
        "colab": {
          "base_uri": "https://localhost:8080/"
        },
        "id": "g7t4aQzVuxiT",
        "outputId": "1e05fa3f-a2d4-46d1-d723-d3ba29e2d1f1"
      },
      "execution_count": null,
      "outputs": [
        {
          "output_type": "execute_result",
          "data": {
            "text/plain": [
              "int"
            ]
          },
          "metadata": {},
          "execution_count": 24
        }
      ]
    },
    {
      "cell_type": "markdown",
      "source": [
        "## 자료형 변환(Casting)"
      ],
      "metadata": {
        "id": "DN1JDXFPu1_4"
      }
    },
    {
      "cell_type": "code",
      "source": [
        "int_value = 3\n",
        "float_value = 3.14\n",
        "bool_value = True\n",
        "str_value = '3'"
      ],
      "metadata": {
        "id": "5b5coCMVvOjR"
      },
      "execution_count": null,
      "outputs": []
    },
    {
      "cell_type": "code",
      "source": [
        "int(float_value)"
      ],
      "metadata": {
        "colab": {
          "base_uri": "https://localhost:8080/"
        },
        "id": "xZIxSPZMvZRN",
        "outputId": "f7c1951c-e4a6-4747-c3b1-0c5c07543352"
      },
      "execution_count": null,
      "outputs": [
        {
          "output_type": "execute_result",
          "data": {
            "text/plain": [
              "3"
            ]
          },
          "metadata": {},
          "execution_count": 27
        }
      ]
    },
    {
      "cell_type": "code",
      "source": [
        "float(int_value)"
      ],
      "metadata": {
        "colab": {
          "base_uri": "https://localhost:8080/"
        },
        "id": "pP4o7ULIvd8Y",
        "outputId": "fb5e35b9-a1b8-42de-e53e-d65ccf475aaf"
      },
      "execution_count": null,
      "outputs": [
        {
          "output_type": "execute_result",
          "data": {
            "text/plain": [
              "3.0"
            ]
          },
          "metadata": {},
          "execution_count": 28
        }
      ]
    },
    {
      "cell_type": "code",
      "source": [
        "str(float_value)"
      ],
      "metadata": {
        "colab": {
          "base_uri": "https://localhost:8080/",
          "height": 35
        },
        "id": "-Vl2WCszvq3z",
        "outputId": "27181239-0d3e-40a4-e802-32577bac3b27"
      },
      "execution_count": null,
      "outputs": [
        {
          "output_type": "execute_result",
          "data": {
            "text/plain": [
              "'3.14'"
            ],
            "application/vnd.google.colaboratory.intrinsic+json": {
              "type": "string"
            }
          },
          "metadata": {},
          "execution_count": 29
        }
      ]
    },
    {
      "cell_type": "code",
      "source": [
        "bool(int_value) # 0 이 아니면 다 True"
      ],
      "metadata": {
        "colab": {
          "base_uri": "https://localhost:8080/"
        },
        "id": "6y5itZwJvwyY",
        "outputId": "d2044e67-585d-44b1-fa2d-dd4a67fedcf4"
      },
      "execution_count": null,
      "outputs": [
        {
          "output_type": "execute_result",
          "data": {
            "text/plain": [
              "True"
            ]
          },
          "metadata": {},
          "execution_count": 31
        }
      ]
    },
    {
      "cell_type": "code",
      "source": [
        "int(str_value)"
      ],
      "metadata": {
        "colab": {
          "base_uri": "https://localhost:8080/"
        },
        "id": "0x7s4Hwyv02A",
        "outputId": "d4fe8f04-4921-4e0d-d05f-e35c0bb13b37"
      },
      "execution_count": null,
      "outputs": [
        {
          "output_type": "execute_result",
          "data": {
            "text/plain": [
              "3"
            ]
          },
          "metadata": {},
          "execution_count": 32
        }
      ]
    },
    {
      "cell_type": "markdown",
      "source": [
        "## None\n",
        "- 없음을 나타내는 Python 의 특수한 객체"
      ],
      "metadata": {
        "id": "G4Mk9ltEwBK_"
      }
    },
    {
      "cell_type": "code",
      "source": [
        "a = None\n",
        "a"
      ],
      "metadata": {
        "id": "Sq3I57xjwU6F"
      },
      "execution_count": null,
      "outputs": []
    },
    {
      "cell_type": "markdown",
      "source": [
        "# 변수의 이름을 지을 때의 관례\n",
        "- 명사로 시작하고, 의미 있는 단어로 명명\n",
        "- 소문자로 작성하며, 단어와 단어 사이를 언더바(_)를 이용해 이어주기(snake case)\n",
        "- 'bool' 자료형을 담는 변수명은 'is_'로 시작하며, 뒤에 나오는 명사가 참인지 거짓인지를 추측하게 한다."
      ],
      "metadata": {
        "id": "MVe3a65bwXBk"
      }
    },
    {
      "cell_type": "code",
      "source": [
        "student_name = \"손용석\"\n",
        "is_number = False"
      ],
      "metadata": {
        "id": "duQY9HE1xK-D"
      },
      "execution_count": null,
      "outputs": []
    },
    {
      "cell_type": "markdown",
      "source": [
        "## 연산자"
      ],
      "metadata": {
        "id": "E0NZcJBUxm_d"
      }
    },
    {
      "cell_type": "markdown",
      "source": [
        "## 산술 연산자\n",
        "- 산술연산의 결과를 반환한다.\n",
        "- `+, -, *, /, //, %, **`"
      ],
      "metadata": {
        "id": "BrDY-9vYxzLk"
      }
    },
    {
      "cell_type": "code",
      "source": [
        "print(5+2)  # 더하기\n",
        "print(5-2)  # 빼기\n",
        "print(5*2)  # 곱하기\n",
        "print(5/2)  # 나누기\n",
        "print(5//2) # 몫\n",
        "print(5%2)  # 나머지\n",
        "print(5**2) # 거듭제곱\n",
        "4 ** 0.5    # 루트"
      ],
      "metadata": {
        "colab": {
          "base_uri": "https://localhost:8080/"
        },
        "id": "kOz4XaZRyInw",
        "outputId": "f46533e3-bb6c-4bb6-dfbd-ddd8c20eacd4"
      },
      "execution_count": null,
      "outputs": [
        {
          "output_type": "stream",
          "name": "stdout",
          "text": [
            "7\n",
            "3\n",
            "10\n",
            "2.5\n",
            "2\n",
            "1\n",
            "25\n"
          ]
        },
        {
          "output_type": "execute_result",
          "data": {
            "text/plain": [
              "2.0"
            ]
          },
          "metadata": {},
          "execution_count": 37
        }
      ]
    },
    {
      "cell_type": "markdown",
      "source": [
        "## 대입연산자\n",
        "- 값을 변수에 할당한다.\n",
        "- 산술연산결과의 값을 변수에 할당한다.\n",
        "- `=, +=, -=, ...`"
      ],
      "metadata": {
        "id": "KFI_JRb-ymNe"
      }
    },
    {
      "cell_type": "code",
      "source": [
        "num = 3\n",
        "num = num - 3\n",
        "num -= 3"
      ],
      "metadata": {
        "id": "8kYRg8zbzIjt"
      },
      "execution_count": null,
      "outputs": []
    },
    {
      "cell_type": "code",
      "source": [
        "num = 3\n",
        "num **= 2 \n",
        "num"
      ],
      "metadata": {
        "colab": {
          "base_uri": "https://localhost:8080/"
        },
        "id": "jVcYYqqszVHE",
        "outputId": "0a3d530a-fcd5-44bf-ca04-f4ae89ce8dcd"
      },
      "execution_count": null,
      "outputs": [
        {
          "output_type": "execute_result",
          "data": {
            "text/plain": [
              "9"
            ]
          },
          "metadata": {},
          "execution_count": 40
        }
      ]
    },
    {
      "cell_type": "markdown",
      "source": [
        "## 비교 연산자\n",
        "- 변수 또는 객체를 비교하여 bool 객체를 반환\n",
        "-`>, <, >=, =<, !=, ==`"
      ],
      "metadata": {
        "id": "PnKZDYwXzvlv"
      }
    },
    {
      "cell_type": "code",
      "source": [
        "a = 5\n",
        "b = 3\n",
        "\n",
        "print(a > b)    # a가 b보다 크다.\n",
        "print(a < b)    # a가 b보다 작다.\n",
        "print(a >= 5)   # a가 5보다 크거나 같다.\n",
        "print(b <= 3)   # b가 3보다 작거나 같다.\n",
        "print(a == b)   # a는 b와 같다.\n",
        "print(a != b)   # a는 b와 다르다."
      ],
      "metadata": {
        "colab": {
          "base_uri": "https://localhost:8080/"
        },
        "id": "AChLkY140EBY",
        "outputId": "3c91ad2d-05f4-456f-8057-6ce002affee3"
      },
      "execution_count": null,
      "outputs": [
        {
          "output_type": "stream",
          "name": "stdout",
          "text": [
            "True\n",
            "False\n",
            "True\n",
            "True\n",
            "False\n",
            "True\n"
          ]
        }
      ]
    },
    {
      "cell_type": "markdown",
      "source": [
        "## 논리연산자\n",
        "- 논리 자료형인 bool객체를 연산해서 bool객체를 반환한다.\n",
        "- `and, or, not`\n",
        "- `is_a and is_b` : 모두 참이면 True, 하나라도 거짓이면 False\n",
        "- `is_a or is_b` : 둘 중에  하나라도 참이면 True, 둘 다 거짓이면 False\n",
        "- `is_a not is_b` : is_a가 참이면 False, 거짓이면 True"
      ],
      "metadata": {
        "id": "Ht_dOAlm0pfw"
      }
    },
    {
      "cell_type": "code",
      "source": [
        "1 < 3 and 3 > 1"
      ],
      "metadata": {
        "colab": {
          "base_uri": "https://localhost:8080/"
        },
        "id": "ZVX3JSOn1eAC",
        "outputId": "6f3363cf-a285-412d-c1e6-15ce70fa74fa"
      },
      "execution_count": null,
      "outputs": [
        {
          "output_type": "execute_result",
          "data": {
            "text/plain": [
              "True"
            ]
          },
          "metadata": {},
          "execution_count": 42
        }
      ]
    },
    {
      "cell_type": "code",
      "source": [
        "1 < 3 and 1 < 1"
      ],
      "metadata": {
        "colab": {
          "base_uri": "https://localhost:8080/"
        },
        "id": "SwU8T-1U1npy",
        "outputId": "db48422e-8cb9-4b97-9cfd-d6d6828a7436"
      },
      "execution_count": null,
      "outputs": [
        {
          "output_type": "execute_result",
          "data": {
            "text/plain": [
              "False"
            ]
          },
          "metadata": {},
          "execution_count": 43
        }
      ]
    },
    {
      "cell_type": "code",
      "source": [
        "1 < 3 or 1 < 1"
      ],
      "metadata": {
        "colab": {
          "base_uri": "https://localhost:8080/"
        },
        "id": "gvSfLvJP1qk-",
        "outputId": "1badaaf0-1b61-4034-bc97-578e8c97603f"
      },
      "execution_count": null,
      "outputs": [
        {
          "output_type": "execute_result",
          "data": {
            "text/plain": [
              "True"
            ]
          },
          "metadata": {},
          "execution_count": 44
        }
      ]
    },
    {
      "cell_type": "code",
      "source": [
        "not False"
      ],
      "metadata": {
        "colab": {
          "base_uri": "https://localhost:8080/"
        },
        "id": "8meiGKfX1tqE",
        "outputId": "9e542b7a-2304-4a8f-b9ae-fd3856e47798"
      },
      "execution_count": null,
      "outputs": [
        {
          "output_type": "execute_result",
          "data": {
            "text/plain": [
              "True"
            ]
          },
          "metadata": {},
          "execution_count": 45
        }
      ]
    },
    {
      "cell_type": "code",
      "source": [
        "1 < 3 and 1 < 2 and 1 < 1"
      ],
      "metadata": {
        "colab": {
          "base_uri": "https://localhost:8080/"
        },
        "id": "j3JZ0VMb103H",
        "outputId": "a6e70486-8c61-4797-a6b5-43fe0336cd6f"
      },
      "execution_count": null,
      "outputs": [
        {
          "output_type": "execute_result",
          "data": {
            "text/plain": [
              "False"
            ]
          },
          "metadata": {},
          "execution_count": 46
        }
      ]
    },
    {
      "cell_type": "code",
      "source": [
        "(1 < 3 and 1 < 2) or 1 < 1"
      ],
      "metadata": {
        "colab": {
          "base_uri": "https://localhost:8080/"
        },
        "id": "Cl2umIk31_iR",
        "outputId": "a033eed2-3bb9-4479-b29d-991891be2693"
      },
      "execution_count": null,
      "outputs": [
        {
          "output_type": "execute_result",
          "data": {
            "text/plain": [
              "True"
            ]
          },
          "metadata": {},
          "execution_count": 48
        }
      ]
    },
    {
      "cell_type": "code",
      "source": [
        "not (1 < 3 and 1 < 2) # 괄호를 써서 가독성을 높임"
      ],
      "metadata": {
        "colab": {
          "base_uri": "https://localhost:8080/"
        },
        "id": "SXc4MYaA2GsT",
        "outputId": "372e1061-8953-4834-9bf4-e83a35a51ab8"
      },
      "execution_count": null,
      "outputs": [
        {
          "output_type": "execute_result",
          "data": {
            "text/plain": [
              "False"
            ]
          },
          "metadata": {},
          "execution_count": 50
        }
      ]
    },
    {
      "cell_type": "markdown",
      "source": [
        "## 포함 연산자\n",
        "- 어떠한 값이 포함 되어있는지 여부에 따라 bool 객체를 반환\n",
        "\n"
      ],
      "metadata": {
        "id": "mRLNYxs22OoT"
      }
    },
    {
      "cell_type": "code",
      "source": [
        "\"a\" in \"abcd\""
      ],
      "metadata": {
        "colab": {
          "base_uri": "https://localhost:8080/"
        },
        "id": "p7KvGsLa2XFD",
        "outputId": "e172bc29-a1d6-489f-b412-62600c2a5b62"
      },
      "execution_count": null,
      "outputs": [
        {
          "output_type": "execute_result",
          "data": {
            "text/plain": [
              "True"
            ]
          },
          "metadata": {},
          "execution_count": 51
        }
      ]
    },
    {
      "cell_type": "code",
      "source": [
        "\"a\" not in \"abcd\""
      ],
      "metadata": {
        "colab": {
          "base_uri": "https://localhost:8080/"
        },
        "id": "a3eOgr0u2tkU",
        "outputId": "ad7e884a-cbab-4859-c423-123162d2fa92"
      },
      "execution_count": null,
      "outputs": [
        {
          "output_type": "execute_result",
          "data": {
            "text/plain": [
              "False"
            ]
          },
          "metadata": {},
          "execution_count": 52
        }
      ]
    }
  ]
}