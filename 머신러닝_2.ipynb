{
  "nbformat": 4,
  "nbformat_minor": 0,
  "metadata": {
    "colab": {
      "name": "머신러닝 2.ipynb",
      "provenance": [],
      "collapsed_sections": [],
      "authorship_tag": "ABX9TyPIga8blUYD02tM0o17MjB+",
      "include_colab_link": true
    },
    "kernelspec": {
      "name": "python3",
      "display_name": "Python 3"
    },
    "language_info": {
      "name": "python"
    },
    "accelerator": "GPU"
  },
  "cells": [
    {
      "cell_type": "markdown",
      "metadata": {
        "id": "view-in-github",
        "colab_type": "text"
      },
      "source": [
        "<a href=\"https://colab.research.google.com/github/soyongseok/-/blob/main/%EB%A8%B8%EC%8B%A0%EB%9F%AC%EB%8B%9D_2.ipynb\" target=\"_parent\"><img src=\"https://colab.research.google.com/assets/colab-badge.svg\" alt=\"Open In Colab\"/></a>"
      ]
    },
    {
      "cell_type": "code",
      "execution_count": 1,
      "metadata": {
        "id": "FSFhLA2VqtcO",
        "colab": {
          "base_uri": "https://localhost:8080/",
          "height": 390
        },
        "outputId": "cbb6ce86-216b-41ff-b348-061cb2ec70f7"
      },
      "outputs": [
        {
          "output_type": "error",
          "ename": "ModuleNotFoundError",
          "evalue": "ignored",
          "traceback": [
            "\u001b[0;31m---------------------------------------------------------------------------\u001b[0m",
            "\u001b[0;31mModuleNotFoundError\u001b[0m                       Traceback (most recent call last)",
            "\u001b[0;32m<ipython-input-1-c3e0774d6d61>\u001b[0m in \u001b[0;36m<module>\u001b[0;34m()\u001b[0m\n\u001b[0;32m----> 1\u001b[0;31m \u001b[0;32mfrom\u001b[0m \u001b[0mpreamble\u001b[0m \u001b[0;32mimport\u001b[0m \u001b[0;34m*\u001b[0m\u001b[0;34m\u001b[0m\u001b[0;34m\u001b[0m\u001b[0m\n\u001b[0m\u001b[1;32m      2\u001b[0m \u001b[0;32mfrom\u001b[0m \u001b[0msklearn\u001b[0m\u001b[0;34m.\u001b[0m\u001b[0mmodel_selection\u001b[0m \u001b[0;32mimport\u001b[0m \u001b[0mtrain_test_split\u001b[0m\u001b[0;34m\u001b[0m\u001b[0;34m\u001b[0m\u001b[0m\n\u001b[1;32m      3\u001b[0m \u001b[0;32mfrom\u001b[0m \u001b[0msklearn\u001b[0m\u001b[0;34m.\u001b[0m\u001b[0mdatasets\u001b[0m \u001b[0;32mimport\u001b[0m \u001b[0mmake_moons\u001b[0m\u001b[0;34m\u001b[0m\u001b[0;34m\u001b[0m\u001b[0m\n\u001b[1;32m      4\u001b[0m \u001b[0;32mfrom\u001b[0m \u001b[0msklearn\u001b[0m\u001b[0;34m.\u001b[0m\u001b[0mdatasets\u001b[0m \u001b[0;32mimport\u001b[0m \u001b[0mload_breast_cancer\u001b[0m\u001b[0;34m\u001b[0m\u001b[0;34m\u001b[0m\u001b[0m\n\u001b[1;32m      5\u001b[0m \u001b[0;34m\u001b[0m\u001b[0m\n",
            "\u001b[0;31mModuleNotFoundError\u001b[0m: No module named 'preamble'",
            "",
            "\u001b[0;31m---------------------------------------------------------------------------\u001b[0;32m\nNOTE: If your import is failing due to a missing package, you can\nmanually install dependencies using either !pip or !apt.\n\nTo view examples of installing some common dependencies, click the\n\"Open Examples\" button below.\n\u001b[0;31m---------------------------------------------------------------------------\u001b[0m\n"
          ],
          "errorDetails": {
            "actions": [
              {
                "action": "open_url",
                "actionText": "Open Examples",
                "url": "/notebooks/snippets/importing_libraries.ipynb"
              }
            ]
          }
        }
      ],
      "source": [
        "from preamble import *\n",
        "from sklearn.model_selection import train_test_split\n",
        "from sklearn.datasets import make_moons\n",
        "from sklearn.datasets import load_breast_cancer\n",
        "\n",
        "Xm, ym = make_moons(n_samples=100, noise=0.25, random_state=3)\n",
        "Xm_train, Xm_test, ym_train, ym_test = train_test_split(\n",
        "    Xm, ym, stratify=ym, random_state=42)\n",
        "\n",
        "cancer = load_breast_cancer()\n",
        "Xc_train, Xc_test, yc_train, yc_test = train_test_split(\n",
        "    cancer.data, cancer.target, random_state=0)"
      ]
    },
    {
      "cell_type": "code",
      "source": [
        "from sklearn.linear_model import LogisticRegression\n",
        "from sklearn.ensemble import BaggingClassifier\n",
        "bagging = BaggingClassifier(LogisticRegression(solver='liblinear'), n_estimators=100,\n",
        "                            oob_score=True, n_jobs=-1, random_state=42)\n",
        "bagging.fit(Xc_train, yc_train)"
      ],
      "metadata": {
        "id": "EEBrZ9FLr1Yo",
        "colab": {
          "base_uri": "https://localhost:8080/",
          "height": 209
        },
        "outputId": "2340a28f-1e8d-44e3-dbd1-12f65fe3b23d"
      },
      "execution_count": 2,
      "outputs": [
        {
          "output_type": "error",
          "ename": "NameError",
          "evalue": "ignored",
          "traceback": [
            "\u001b[0;31m---------------------------------------------------------------------------\u001b[0m",
            "\u001b[0;31mNameError\u001b[0m                                 Traceback (most recent call last)",
            "\u001b[0;32m<ipython-input-2-e2b8b2f7d75c>\u001b[0m in \u001b[0;36m<module>\u001b[0;34m()\u001b[0m\n\u001b[1;32m      3\u001b[0m bagging = BaggingClassifier(LogisticRegression(solver='liblinear'), n_estimators=100,\n\u001b[1;32m      4\u001b[0m                             oob_score=True, n_jobs=-1, random_state=42)\n\u001b[0;32m----> 5\u001b[0;31m \u001b[0mbagging\u001b[0m\u001b[0;34m.\u001b[0m\u001b[0mfit\u001b[0m\u001b[0;34m(\u001b[0m\u001b[0mXc_train\u001b[0m\u001b[0;34m,\u001b[0m \u001b[0myc_train\u001b[0m\u001b[0;34m)\u001b[0m\u001b[0;34m\u001b[0m\u001b[0;34m\u001b[0m\u001b[0m\n\u001b[0m",
            "\u001b[0;31mNameError\u001b[0m: name 'Xc_train' is not defined"
          ]
        }
      ]
    },
    {
      "cell_type": "code",
      "source": [
        ""
      ],
      "metadata": {
        "id": "KTyUeDJ20BrP"
      },
      "execution_count": null,
      "outputs": []
    },
    {
      "cell_type": "code",
      "source": [
        "print('훈련 세트 정확도: {:.3f}'.format(bagging.score(Xc_train, yc_train)))\n",
        "print('테스트 세트 정확도: {:.3f}'.format(bagging.score(Xc_test, yc_test)))\n",
        "print('OOB 샘플의 정확도: {:.3f}'.format(bagging.oob_score_))"
      ],
      "metadata": {
        "id": "DmH1TEEYz-Ki",
        "colab": {
          "base_uri": "https://localhost:8080/",
          "height": 209
        },
        "outputId": "fde482d1-af4e-4f20-df11-079d315ee000"
      },
      "execution_count": 3,
      "outputs": [
        {
          "output_type": "error",
          "ename": "NameError",
          "evalue": "ignored",
          "traceback": [
            "\u001b[0;31m---------------------------------------------------------------------------\u001b[0m",
            "\u001b[0;31mNameError\u001b[0m                                 Traceback (most recent call last)",
            "\u001b[0;32m<ipython-input-3-b6c7675c377f>\u001b[0m in \u001b[0;36m<module>\u001b[0;34m()\u001b[0m\n\u001b[0;32m----> 1\u001b[0;31m \u001b[0mprint\u001b[0m\u001b[0;34m(\u001b[0m\u001b[0;34m'훈련 세트 정확도: {:.3f}'\u001b[0m\u001b[0;34m.\u001b[0m\u001b[0mformat\u001b[0m\u001b[0;34m(\u001b[0m\u001b[0mbagging\u001b[0m\u001b[0;34m.\u001b[0m\u001b[0mscore\u001b[0m\u001b[0;34m(\u001b[0m\u001b[0mXc_train\u001b[0m\u001b[0;34m,\u001b[0m \u001b[0myc_train\u001b[0m\u001b[0;34m)\u001b[0m\u001b[0;34m)\u001b[0m\u001b[0;34m)\u001b[0m\u001b[0;34m\u001b[0m\u001b[0;34m\u001b[0m\u001b[0m\n\u001b[0m\u001b[1;32m      2\u001b[0m \u001b[0mprint\u001b[0m\u001b[0;34m(\u001b[0m\u001b[0;34m'테스트 세트 정확도: {:.3f}'\u001b[0m\u001b[0;34m.\u001b[0m\u001b[0mformat\u001b[0m\u001b[0;34m(\u001b[0m\u001b[0mbagging\u001b[0m\u001b[0;34m.\u001b[0m\u001b[0mscore\u001b[0m\u001b[0;34m(\u001b[0m\u001b[0mXc_test\u001b[0m\u001b[0;34m,\u001b[0m \u001b[0myc_test\u001b[0m\u001b[0;34m)\u001b[0m\u001b[0;34m)\u001b[0m\u001b[0;34m)\u001b[0m\u001b[0;34m\u001b[0m\u001b[0;34m\u001b[0m\u001b[0m\n\u001b[1;32m      3\u001b[0m \u001b[0mprint\u001b[0m\u001b[0;34m(\u001b[0m\u001b[0;34m'OOB 샘플의 정확도: {:.3f}'\u001b[0m\u001b[0;34m.\u001b[0m\u001b[0mformat\u001b[0m\u001b[0;34m(\u001b[0m\u001b[0mbagging\u001b[0m\u001b[0;34m.\u001b[0m\u001b[0moob_score_\u001b[0m\u001b[0;34m)\u001b[0m\u001b[0;34m)\u001b[0m\u001b[0;34m\u001b[0m\u001b[0;34m\u001b[0m\u001b[0m\n",
            "\u001b[0;31mNameError\u001b[0m: name 'Xc_train' is not defined"
          ]
        }
      ]
    },
    {
      "cell_type": "code",
      "source": [
        "from sklearn.tree import DecisionTreeClassifier\n",
        "bagging = BaggingClassifier(DecisionTreeClassifier(), n_estimators=5,\n",
        "                            n_jobs=-1, random_state=42)\n",
        "bagging.fit(Xm_train, ym_train)"
      ],
      "metadata": {
        "id": "OIaNNY6Oz01a",
        "colab": {
          "base_uri": "https://localhost:8080/",
          "height": 209
        },
        "outputId": "9ea9d111-7fe3-4517-e0ae-6eb745ed7672"
      },
      "execution_count": 4,
      "outputs": [
        {
          "output_type": "error",
          "ename": "NameError",
          "evalue": "ignored",
          "traceback": [
            "\u001b[0;31m---------------------------------------------------------------------------\u001b[0m",
            "\u001b[0;31mNameError\u001b[0m                                 Traceback (most recent call last)",
            "\u001b[0;32m<ipython-input-4-e69ee9f0cf09>\u001b[0m in \u001b[0;36m<module>\u001b[0;34m()\u001b[0m\n\u001b[1;32m      2\u001b[0m bagging = BaggingClassifier(DecisionTreeClassifier(), n_estimators=5,\n\u001b[1;32m      3\u001b[0m                             n_jobs=-1, random_state=42)\n\u001b[0;32m----> 4\u001b[0;31m \u001b[0mbagging\u001b[0m\u001b[0;34m.\u001b[0m\u001b[0mfit\u001b[0m\u001b[0;34m(\u001b[0m\u001b[0mXm_train\u001b[0m\u001b[0;34m,\u001b[0m \u001b[0mym_train\u001b[0m\u001b[0;34m)\u001b[0m\u001b[0;34m\u001b[0m\u001b[0;34m\u001b[0m\u001b[0m\n\u001b[0m",
            "\u001b[0;31mNameError\u001b[0m: name 'Xm_train' is not defined"
          ]
        }
      ]
    },
    {
      "cell_type": "code",
      "source": [
        "import matplotlib.pyplot as plt\n",
        "import scikit\n",
        "plt.rc('font', family='NanumBarunGothic') "
      ],
      "metadata": {
        "id": "Fqup0CbQ5Xea"
      },
      "execution_count": null,
      "outputs": []
    },
    {
      "cell_type": "code",
      "source": [
        "fig, axes = plt.subplots(2 ,3, figsize=(20, 10))\n",
        "for i, (ax, tree) in enumerate(zip(axes.ravel(), bagging.estimators_)):\n",
        "    ax.set_title('트리 {}'.format(i))\n",
        "    mglearn.plots.plot_tree_partition(Xm, ym, tree, ax=ax)\n",
        "\n",
        "mglearn.plots.plot_2d_separator(bagging, Xm, fill=True, ax=axes[-1,-1], alpha=.4)\n",
        "axes[-1, -1].set_title('배깅')\n",
        "mglearn.discerte_scatter(Xm[:,0], Xm[:, 1], ym)\n",
        "plt.show()"
      ],
      "metadata": {
        "id": "_5MbFNJC33yX"
      },
      "execution_count": null,
      "outputs": []
    },
    {
      "cell_type": "code",
      "source": [
        "bagging = BaggingClassifier(DecisionTreeClassifier(), n_estimators=100,\n",
        "                            oob_score=True, n_jobs=-1, random_state=42)\n",
        "bagging.fit(Xc_train, yc_train)\n",
        "\n",
        "print('훈련 세트 정확도: {:.3f}'.format(bagging.score(Xc_train, yc_train)))\n",
        "print('테스트 세트 정확도: {:.3f}'.format(bagging.score(Xc_test, yc_test)))\n",
        "print('OOB 샘플의 정확도: {:.3f}'.format(bagging.oob_score_))"
      ],
      "metadata": {
        "id": "TkrgVv-e4FyD"
      },
      "execution_count": null,
      "outputs": []
    },
    {
      "cell_type": "code",
      "source": [
        "from sklearn.ensemble import ExtraTreesClassifier\n",
        "xtree = ExtraTreesClassifier(n_estimators=5, n_jobs=-1, random_state=0)\n",
        "xtree.fit(Xm_train, ym_train)\n",
        "\n",
        "fig, axes = plt.subplots(2, 3, figsize=(20, 10))\n",
        "for i, (ax, tree) in enumerate(zip(axes.ravel(), xtree.estimaotors_)):\n",
        "  ax.set_tilte('트리 {}'.format(i))\n",
        "  mglearn.plots.plot_tree_partition(Xm, ym, tree, ax=ax)\n",
        "\n",
        "mglearn.plots.plot_2d_separator(xtree, Xm, fill=True, ax=axes[-1, -1], alpha=.4)\n",
        "axes[-1, -1].set_title('엑스트라 트리')\n",
        "mglearn.discrete_scatter(Xm[:, 0], Xm[:, 1], ym)\n",
        "plt.show()"
      ],
      "metadata": {
        "id": "s4YdoTfk8yft"
      },
      "execution_count": null,
      "outputs": []
    },
    {
      "cell_type": "code",
      "source": [
        "xtree = ExtraTreesCalssifier(n_estimators=100, n_jobs=-1, random_state=0)\n",
        "xtree.fit(Xc_train, yc_train)\n",
        "\n",
        "print('훈련 세트 정확도: {:.3f}'.format(xtree.score(Xc_train, yc_train)))\n",
        "print('테스트 세트 정확도: {:.3f}'.format(xtree.score(Xc_test, yc_test)))"
      ],
      "metadata": {
        "id": "SXakRq3T-sT6"
      },
      "execution_count": null,
      "outputs": []
    },
    {
      "cell_type": "code",
      "source": [
        "n_feature = cancer.data.shape[1]\n",
        "plt.barh(range(n_features), xtree.feature_importances_, align='center')\n",
        "plt.yticks(np.arrange(n_features), cancer.n_feature_names)\n",
        "plt.xlabel('특성 중요도')\n",
        "plt.ylabel('특성')\n",
        "plt.ylim(-1, n_features)\n",
        "plt.show()"
      ],
      "metadata": {
        "id": "z5OnkVNWqMiZ"
      },
      "execution_count": null,
      "outputs": []
    },
    {
      "cell_type": "code",
      "source": [
        "from sklearn.ensemble import AdaBoostClassifier\n",
        "ada = AdaboostClassifier(n_estimator=5, random_state=42)\n",
        "ada.fit(Xm_train, ym_train)\n",
        "\n",
        "fig,axes = plt.subplots(2,3, figsize=(20, 10))\n",
        "for i, (ax,tree) in enumerate(zip(axes.ravel(), ada.estimators_)):\n",
        "    ax.set_title('트리 {}'.format(i))\n",
        "    mglearn.plots.plot_tree_partition(Xm, ym, tree, ax=ax)\n",
        "\n",
        "mglearn.plots.plot_2d_separator(ada, Xm, fill=True, ax=axes[-1, -1], alpha=.4)\n",
        "axes[-1, -1].set_title('에이다부스트')\n",
        "mglearn.discrete_scatter(Xm[:, 0], Xm[:,1], ym)\n",
        "plt.show()"
      ],
      "metadata": {
        "id": "bosP-4fkrQMi"
      },
      "execution_count": null,
      "outputs": []
    },
    {
      "cell_type": "code",
      "source": [
        "ada = AdaBoostClassifier(n_estimators=100, random_state=42)\n",
        "ada.fit(Xc_train, yc_train)\n",
        "\n",
        "print('훈련 세트 정확도: {:.3f}'.format(ada.score(Xc_train, yc_train)))\n",
        "print('테스트 세트 정확도: {:.3f}'.format(ada.score(Xc_test, yc_test)))"
      ],
      "metadata": {
        "id": "J79v8Qg8tdMt"
      },
      "execution_count": null,
      "outputs": []
    },
    {
      "cell_type": "code",
      "source": [
        ""
      ],
      "metadata": {
        "id": "5PX8dtDBcMxV",
        "colab": {
          "base_uri": "https://localhost:8080/",
          "height": 227
        },
        "outputId": "cf3891a4-4edd-4e31-dcc8-14ad9f31b9e2"
      },
      "execution_count": 5,
      "outputs": [
        {
          "output_type": "stream",
          "name": "stdout",
          "text": [
            "/content\n"
          ]
        },
        {
          "output_type": "error",
          "ename": "NameError",
          "evalue": "ignored",
          "traceback": [
            "\u001b[0;31m---------------------------------------------------------------------------\u001b[0m",
            "\u001b[0;31mNameError\u001b[0m                                 Traceback (most recent call last)",
            "\u001b[0;32m<ipython-input-5-44cd1618e1f1>\u001b[0m in \u001b[0;36m<module>\u001b[0;34m()\u001b[0m\n\u001b[1;32m      1\u001b[0m \u001b[0;32mimport\u001b[0m \u001b[0mos\u001b[0m\u001b[0;34m\u001b[0m\u001b[0;34m\u001b[0m\u001b[0m\n\u001b[1;32m      2\u001b[0m \u001b[0mprint\u001b[0m\u001b[0;34m(\u001b[0m\u001b[0mos\u001b[0m\u001b[0;34m.\u001b[0m\u001b[0mgetcwd\u001b[0m\u001b[0;34m(\u001b[0m\u001b[0;34m)\u001b[0m\u001b[0;34m)\u001b[0m\u001b[0;34m\u001b[0m\u001b[0;34m\u001b[0m\u001b[0m\n\u001b[0;32m----> 3\u001b[0;31m \u001b[0mprint\u001b[0m\u001b[0;34m(\u001b[0m\u001b[0mos\u001b[0m\u001b[0;34m.\u001b[0m\u001b[0mpath\u001b[0m\u001b[0;34m.\u001b[0m\u001b[0mdirname\u001b[0m\u001b[0;34m(\u001b[0m\u001b[0mos\u001b[0m\u001b[0;34m.\u001b[0m\u001b[0mpath\u001b[0m\u001b[0;34m.\u001b[0m\u001b[0mrealpath\u001b[0m\u001b[0;34m(\u001b[0m\u001b[0m__file__\u001b[0m\u001b[0;34m)\u001b[0m\u001b[0;34m)\u001b[0m \u001b[0;34m)\u001b[0m\u001b[0;34m\u001b[0m\u001b[0;34m\u001b[0m\u001b[0m\n\u001b[0m",
            "\u001b[0;31mNameError\u001b[0m: name '__file__' is not defined"
          ]
        }
      ]
    },
    {
      "cell_type": "code",
      "source": [
        ""
      ],
      "metadata": {
        "id": "m0gLlqFVzCUt"
      },
      "execution_count": null,
      "outputs": []
    }
  ]
}