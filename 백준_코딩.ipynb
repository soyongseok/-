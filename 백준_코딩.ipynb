{
  "nbformat": 4,
  "nbformat_minor": 0,
  "metadata": {
    "colab": {
      "name": "백준 코딩.ipynb",
      "provenance": [],
      "collapsed_sections": [],
      "authorship_tag": "ABX9TyN8tSlz7JaF0AhOdi54ohcP",
      "include_colab_link": true
    },
    "kernelspec": {
      "name": "python3",
      "display_name": "Python 3"
    },
    "language_info": {
      "name": "python"
    },
    "accelerator": "GPU"
  },
  "cells": [
    {
      "cell_type": "markdown",
      "metadata": {
        "id": "view-in-github",
        "colab_type": "text"
      },
      "source": [
        "<a href=\"https://colab.research.google.com/github/soyongseok/-/blob/main/%EB%B0%B1%EC%A4%80_%EC%BD%94%EB%94%A9.ipynb\" target=\"_parent\"><img src=\"https://colab.research.google.com/assets/colab-badge.svg\" alt=\"Open In Colab\"/></a>"
      ]
    },
    {
      "cell_type": "markdown",
      "source": [
        "# 10430번 나머지 문제"
      ],
      "metadata": {
        "id": "UfPCDj-cJwy4"
      }
    },
    {
      "cell_type": "code",
      "execution_count": null,
      "metadata": {
        "colab": {
          "base_uri": "https://localhost:8080/"
        },
        "id": "VtGeiDkZa7av",
        "outputId": "1b44da3d-1698-40c1-ca59-39d0ab9d00b7"
      },
      "outputs": [
        {
          "output_type": "stream",
          "name": "stdout",
          "text": [
            "5 8 4\n",
            "1\n",
            "1\n",
            "0\n",
            "0\n"
          ]
        }
      ],
      "source": [
        "a, b, c = map(int,input().split())\n",
        "print((a+b)%c)\n",
        "print(((a%c)+(b%c))%c)\n",
        "print((a*b)%c)\n",
        "print(((a%c)*(b%c))%c)"
      ]
    },
    {
      "cell_type": "markdown",
      "source": [
        "# 2163번 초콜릿 자르기 문제"
      ],
      "metadata": {
        "id": "o2DC-qDyMhpk"
      }
    },
    {
      "cell_type": "code",
      "source": [
        "a, b = map(int, input().split())\n",
        "print((a+b)-1)"
      ],
      "metadata": {
        "colab": {
          "base_uri": "https://localhost:8080/"
        },
        "id": "GEFaX2Qt4qM3",
        "outputId": "183367c7-7197-4823-f145-96bcc64425e6"
      },
      "execution_count": null,
      "outputs": [
        {
          "output_type": "stream",
          "name": "stdout",
          "text": [
            "1 1\n",
            "1\n"
          ]
        }
      ]
    },
    {
      "cell_type": "markdown",
      "source": [
        "# 10952번 A+B - 5 문제"
      ],
      "metadata": {
        "id": "CtxEv4hFPpgt"
      }
    },
    {
      "cell_type": "code",
      "source": [
        "resultList = []\n",
        "\n",
        "while True:\n",
        "    a, b = list(map(int, input().split()))\n",
        "    if a ==0 and b == 0:\n",
        "        break\n",
        "    resultList.append(a+b)\n",
        "\n",
        "for result in resultList:\n",
        "    print(result)"
      ],
      "metadata": {
        "id": "dM_984UTPpUM"
      },
      "execution_count": null,
      "outputs": []
    },
    {
      "cell_type": "code",
      "source": [
        "K = int(input())\n",
        "\n",
        "for i in range(K) :\n",
        "    a,b = map(int, input().split())\n",
        "    print(\"Case #\", i+1,': ', a+b, sep='')"
      ],
      "metadata": {
        "id": "r9_L7WSp6mlA",
        "colab": {
          "base_uri": "https://localhost:8080/",
          "height": 263
        },
        "outputId": "73d73175-6f43-4d1d-fbfc-8ad91524c1e2"
      },
      "execution_count": null,
      "outputs": [
        {
          "name": "stdout",
          "output_type": "stream",
          "text": [
            "22\n",
            "2\n"
          ]
        },
        {
          "output_type": "error",
          "ename": "ValueError",
          "evalue": "ignored",
          "traceback": [
            "\u001b[0;31m---------------------------------------------------------------------------\u001b[0m",
            "\u001b[0;31mValueError\u001b[0m                                Traceback (most recent call last)",
            "\u001b[0;32m<ipython-input-13-4f7fb0864965>\u001b[0m in \u001b[0;36m<module>\u001b[0;34m()\u001b[0m\n\u001b[1;32m      2\u001b[0m \u001b[0;34m\u001b[0m\u001b[0m\n\u001b[1;32m      3\u001b[0m \u001b[0;32mfor\u001b[0m \u001b[0mi\u001b[0m \u001b[0;32min\u001b[0m \u001b[0mrange\u001b[0m\u001b[0;34m(\u001b[0m\u001b[0mK\u001b[0m\u001b[0;34m)\u001b[0m \u001b[0;34m:\u001b[0m\u001b[0;34m\u001b[0m\u001b[0;34m\u001b[0m\u001b[0m\n\u001b[0;32m----> 4\u001b[0;31m     \u001b[0ma\u001b[0m\u001b[0;34m,\u001b[0m\u001b[0mb\u001b[0m \u001b[0;34m=\u001b[0m \u001b[0mmap\u001b[0m\u001b[0;34m(\u001b[0m\u001b[0mint\u001b[0m\u001b[0;34m,\u001b[0m \u001b[0minput\u001b[0m\u001b[0;34m(\u001b[0m\u001b[0;34m)\u001b[0m\u001b[0;34m.\u001b[0m\u001b[0msplit\u001b[0m\u001b[0;34m(\u001b[0m\u001b[0;34m)\u001b[0m\u001b[0;34m)\u001b[0m\u001b[0;34m\u001b[0m\u001b[0;34m\u001b[0m\u001b[0m\n\u001b[0m\u001b[1;32m      5\u001b[0m     \u001b[0mprint\u001b[0m\u001b[0;34m(\u001b[0m\u001b[0;34m\"Case #\"\u001b[0m\u001b[0;34m,\u001b[0m \u001b[0mi\u001b[0m\u001b[0;34m+\u001b[0m\u001b[0;36m1\u001b[0m\u001b[0;34m,\u001b[0m\u001b[0;34m': '\u001b[0m\u001b[0;34m,\u001b[0m \u001b[0ma\u001b[0m\u001b[0;34m+\u001b[0m\u001b[0mb\u001b[0m\u001b[0;34m,\u001b[0m \u001b[0msep\u001b[0m\u001b[0;34m=\u001b[0m\u001b[0;34m''\u001b[0m\u001b[0;34m)\u001b[0m\u001b[0;34m\u001b[0m\u001b[0;34m\u001b[0m\u001b[0m\n",
            "\u001b[0;31mValueError\u001b[0m: not enough values to unpack (expected 2, got 1)"
          ]
        }
      ]
    },
    {
      "cell_type": "code",
      "source": [
        "a = int(input())\n",
        "\n",
        "for i in range(a):\n",
        "  a, b = map(int,input().split())\n",
        "  print('Case #', a, ':', i+1,%d'+'%d')"
      ],
      "metadata": {
        "colab": {
          "base_uri": "https://localhost:8080/",
          "height": 136
        },
        "id": "rN8uZac9Zl1E",
        "outputId": "c1269746-3eed-46a6-ede9-2d123d61fd75"
      },
      "execution_count": null,
      "outputs": [
        {
          "output_type": "error",
          "ename": "SyntaxError",
          "evalue": "ignored",
          "traceback": [
            "\u001b[0;36m  File \u001b[0;32m\"<ipython-input-26-101bd2595908>\"\u001b[0;36m, line \u001b[0;32m5\u001b[0m\n\u001b[0;31m    print('Case #', a, ':', i+1,%d'+'%d)\u001b[0m\n\u001b[0m                                ^\u001b[0m\n\u001b[0;31mSyntaxError\u001b[0m\u001b[0;31m:\u001b[0m invalid syntax\n"
          ]
        }
      ]
    },
    {
      "cell_type": "markdown",
      "source": [
        "#11022번 A+B - 8 문제"
      ],
      "metadata": {
        "id": "J9gnsgDDOVXX"
      }
    },
    {
      "cell_type": "code",
      "source": [
        "import sys\n",
        "\n",
        "K = int(input())\n",
        "for i in range(K):\n",
        "    a,b = map(int, input().split())\n",
        "    c = a + b\n",
        "    print(\"Case #%d: %d + %d = %d\" %(i+1, a, b, c))"
      ],
      "metadata": {
        "id": "fUe3xc2LklSu",
        "colab": {
          "base_uri": "https://localhost:8080/"
        },
        "outputId": "eb90add3-a98b-4161-ebf7-e04699314e05"
      },
      "execution_count": null,
      "outputs": [
        {
          "output_type": "stream",
          "name": "stdout",
          "text": [
            "5\n",
            "1 1\n",
            "Case #1: 1 + 1 = 2\n",
            "2 1\n",
            "Case #2: 2 + 1 = 3\n",
            "3 1\n",
            "Case #3: 3 + 1 = 4\n",
            "4 1\n",
            "Case #4: 4 + 1 = 5\n",
            "5 1\n",
            "Case #5: 5 + 1 = 6\n"
          ]
        }
      ]
    },
    {
      "cell_type": "markdown",
      "source": [
        "# 10699번 오늘 날짜 문제"
      ],
      "metadata": {
        "id": "1MRzTZkpNuBu"
      }
    },
    {
      "cell_type": "code",
      "source": [
        "import datetime\n",
        "\n",
        "print(str(datetime.datetime.today())[:10])"
      ],
      "metadata": {
        "colab": {
          "base_uri": "https://localhost:8080/"
        },
        "id": "JzuwPQlrvVAh",
        "outputId": "d445f76b-df86-47c2-abee-ee24828b8e58"
      },
      "execution_count": null,
      "outputs": [
        {
          "output_type": "stream",
          "name": "stdout",
          "text": [
            "2022-05-21\n"
          ]
        }
      ]
    },
    {
      "cell_type": "markdown",
      "source": [
        "# 9498번 시험 성적 문제"
      ],
      "metadata": {
        "id": "bOrc2glOIPV4"
      }
    },
    {
      "cell_type": "code",
      "source": [
        "a = int(input())\n",
        "\n",
        "if a >= 90:\n",
        "  print('A')\n",
        "elif a >= 80:\n",
        "  print('B')\n",
        "elif a >= 70:\n",
        "  print('C')\n",
        "elif a >= 60:\n",
        "  print('D')\n",
        "else:\n",
        "  print('F')"
      ],
      "metadata": {
        "id": "-rgGC5y8xqvv",
        "colab": {
          "base_uri": "https://localhost:8080/"
        },
        "outputId": "b21c6157-1092-4bc8-c046-33718577d719"
      },
      "execution_count": null,
      "outputs": [
        {
          "output_type": "stream",
          "name": "stdout",
          "text": [
            "102\n",
            "F\n"
          ]
        }
      ]
    },
    {
      "cell_type": "markdown",
      "source": [
        "# 2753번 윤년 문제"
      ],
      "metadata": {
        "id": "RP53vdcqIWIp"
      }
    },
    {
      "cell_type": "code",
      "source": [
        "a = int(input())\n",
        "\n",
        "if (a % 4 == 0 and  a % 100 != 0) or a % 400 == 0:\n",
        "  print('1')\n",
        "else:\n",
        "  print('0')"
      ],
      "metadata": {
        "colab": {
          "base_uri": "https://localhost:8080/"
        },
        "id": "u6OJzOr-g03V",
        "outputId": "5a47902c-6600-4cd6-a0e0-8793adb664a8"
      },
      "execution_count": null,
      "outputs": [
        {
          "output_type": "stream",
          "name": "stdout",
          "text": [
            "1999\n",
            "0\n"
          ]
        }
      ]
    },
    {
      "cell_type": "markdown",
      "source": [
        "# 14681번 사분면 고르기 문제"
      ],
      "metadata": {
        "id": "9fzDSFcbIeqG"
      }
    },
    {
      "cell_type": "code",
      "source": [
        "a = int(input())\n",
        "b = int(input())\n",
        "if a<0 and b>0:\n",
        "  print('2')\n",
        "elif a>0 and b>0:\n",
        " print('1')\n",
        "elif a<0 and b<0:\n",
        " print('3')\n",
        "else:\n",
        " print('4')"
      ],
      "metadata": {
        "colab": {
          "base_uri": "https://localhost:8080/"
        },
        "id": "5Ss--jGJnleb",
        "outputId": "73e731d4-14d7-4905-a2e4-2c9b81a8060f"
      },
      "execution_count": null,
      "outputs": [
        {
          "output_type": "stream",
          "name": "stdout",
          "text": [
            "9\n",
            "-13\n",
            "4\n"
          ]
        }
      ]
    },
    {
      "cell_type": "markdown",
      "source": [
        "# 2884번 알람 시계 문제"
      ],
      "metadata": {
        "id": "KruTtvnrIpRc"
      }
    },
    {
      "cell_type": "code",
      "source": [
        "H,M = map(int, input().split())\n",
        "\n",
        "if H>=1 and M >= 45 :\n",
        "  print(H, M-45)\n",
        "elif H>=1 and M < 45 :\n",
        "  print(H-1, 60-abs(M-45))\n",
        "elif H<1 and M >= 45 :\n",
        "  print(H, M-45)\n",
        "elif H<1 and M < 45 :\n",
        "  print(24-abs(H-1), 60-abs(M-45))"
      ],
      "metadata": {
        "id": "vbsnIAWCrZJD",
        "colab": {
          "base_uri": "https://localhost:8080/"
        },
        "outputId": "41d460ae-cab3-4cbc-b1cf-e8c9ebaf874e"
      },
      "execution_count": null,
      "outputs": [
        {
          "output_type": "stream",
          "name": "stdout",
          "text": [
            "9 45\n",
            "9 0\n"
          ]
        }
      ]
    },
    {
      "cell_type": "markdown",
      "source": [
        "# 2525번 오븐 시계 문제"
      ],
      "metadata": {
        "id": "uIEXZl5ZIu9E"
      }
    },
    {
      "cell_type": "code",
      "source": [
        "a, b = map(int, input().split())\n",
        "c = int(input())\n",
        "\n",
        "a += c // 60\n",
        "b += c % 60\n",
        "\n",
        "if b>=60:\n",
        "  a += 1\n",
        "  b -= 60\n",
        "if a >= 24:\n",
        "  a -= 24\n",
        "print(a,b)"
      ],
      "metadata": {
        "id": "cJcf9r26xT5g",
        "colab": {
          "base_uri": "https://localhost:8080/"
        },
        "outputId": "7446cb6b-407f-4766-8eca-ee40f7cbebb8"
      },
      "execution_count": null,
      "outputs": [
        {
          "output_type": "stream",
          "name": "stdout",
          "text": [
            "23 48\n",
            "25\n",
            "0 13\n"
          ]
        }
      ]
    },
    {
      "cell_type": "markdown",
      "source": [
        "# 2480번 주사위 세개 문제"
      ],
      "metadata": {
        "id": "C4CvoNU9I0nQ"
      }
    },
    {
      "cell_type": "code",
      "source": [
        "a, b, c = map(int, input().split())\n",
        "\n",
        "if (a==b==c):\n",
        "  X = 10000+a*1000\n",
        "elif (a==b!=c):\n",
        "  X = 1000 + a * 100\n",
        "elif b==c!=a:\n",
        "  X = 1000 + b * 100\n",
        "elif a==c!=b:\n",
        "  X = 1000 + a * 100\n",
        "elif a!=b!=c:\n",
        "  if (a > b and a > c):\n",
        "   X = a * 100\n",
        "  elif (b > a and b > c):\n",
        "   X = b * 100\n",
        "  elif (c > b and c > a):\n",
        "   X = c * 100\n",
        "print(X)"
      ],
      "metadata": {
        "colab": {
          "base_uri": "https://localhost:8080/"
        },
        "id": "OTwJss6AhgJy",
        "outputId": "490a2c63-63b1-4776-af13-e07c42fe9c27"
      },
      "execution_count": null,
      "outputs": [
        {
          "output_type": "stream",
          "name": "stdout",
          "text": [
            "6 2 5\n",
            "600\n"
          ]
        }
      ]
    },
    {
      "cell_type": "markdown",
      "source": [
        "# 2739번 구구단 문제"
      ],
      "metadata": {
        "id": "YOvtOZH_N_sa"
      }
    },
    {
      "cell_type": "code",
      "source": [
        "X = int(input())\n",
        "\n",
        "for i in range (1, 10):\n",
        "  a = X * i\n",
        "  print(X, '*', i, '=', a)"
      ],
      "metadata": {
        "colab": {
          "base_uri": "https://localhost:8080/"
        },
        "id": "rcM6rsNHkrsX",
        "outputId": "49a7fd02-e20b-4099-ef1f-4f1f2dab7376"
      },
      "execution_count": null,
      "outputs": [
        {
          "output_type": "stream",
          "name": "stdout",
          "text": [
            "158\n",
            "158 * 1 = 158\n",
            "158 * 2 = 316\n",
            "158 * 3 = 474\n",
            "158 * 4 = 632\n",
            "158 * 5 = 790\n",
            "158 * 6 = 948\n",
            "158 * 7 = 1106\n",
            "158 * 8 = 1264\n",
            "158 * 9 = 1422\n"
          ]
        }
      ]
    },
    {
      "cell_type": "markdown",
      "source": [
        "# 15552번 빠른 A+B 문제"
      ],
      "metadata": {
        "id": "xQK9QEGuNiKL"
      }
    },
    {
      "cell_type": "code",
      "source": [
        "X = int(input())\n",
        "\n",
        "for i in range(X):\n",
        "  a, b = map(int,input().split())\n",
        "  print(a + b)"
      ],
      "metadata": {
        "colab": {
          "base_uri": "https://localhost:8080/"
        },
        "id": "m2kz43oCk-kO",
        "outputId": "f3b12c6c-3835-43d2-f19b-014b06e083fc"
      },
      "execution_count": null,
      "outputs": [
        {
          "output_type": "stream",
          "name": "stdout",
          "text": [
            "5\n",
            "1 1\n",
            "2\n",
            "2 3\n",
            "5\n",
            "3 3\n",
            "6\n",
            "5 6\n",
            "11\n",
            "2 3\n",
            "5\n"
          ]
        }
      ]
    },
    {
      "cell_type": "code",
      "source": [
        "a = int(input())\n",
        "M = 0\n",
        "\n",
        "for i in range(a+1):\n",
        "  M += i\n",
        "print(M)"
      ],
      "metadata": {
        "id": "gVL11MCatfzc",
        "colab": {
          "base_uri": "https://localhost:8080/"
        },
        "outputId": "b0d83a23-09d6-411f-fbfd-be9eebbcf287"
      },
      "execution_count": null,
      "outputs": [
        {
          "output_type": "stream",
          "name": "stdout",
          "text": [
            "2\n",
            "3\n"
          ]
        }
      ]
    },
    {
      "cell_type": "markdown",
      "source": [
        "#15552번 문제"
      ],
      "metadata": {
        "id": "oB5sMk2X5fmp"
      }
    },
    {
      "cell_type": "code",
      "source": [
        "import sys\n",
        "X = int(input())\n",
        "\n",
        "for i in range(X):\n",
        "  a, b = map(int,sys.stdin.readline().split())\n",
        "  print(a + b)"
      ],
      "metadata": {
        "colab": {
          "base_uri": "https://localhost:8080/",
          "height": 248
        },
        "id": "9dg3mvBgFQqu",
        "outputId": "6b5ca888-9f72-4c2f-de16-a67978143fed"
      },
      "execution_count": null,
      "outputs": [
        {
          "name": "stdout",
          "output_type": "stream",
          "text": [
            "5\n"
          ]
        },
        {
          "output_type": "error",
          "ename": "ValueError",
          "evalue": "ignored",
          "traceback": [
            "\u001b[0;31m---------------------------------------------------------------------------\u001b[0m",
            "\u001b[0;31mValueError\u001b[0m                                Traceback (most recent call last)",
            "\u001b[0;32m<ipython-input-7-d4dd5ea1b301>\u001b[0m in \u001b[0;36m<module>\u001b[0;34m()\u001b[0m\n\u001b[1;32m      3\u001b[0m \u001b[0;34m\u001b[0m\u001b[0m\n\u001b[1;32m      4\u001b[0m \u001b[0;32mfor\u001b[0m \u001b[0mi\u001b[0m \u001b[0;32min\u001b[0m \u001b[0mrange\u001b[0m\u001b[0;34m(\u001b[0m\u001b[0mX\u001b[0m\u001b[0;34m)\u001b[0m\u001b[0;34m:\u001b[0m\u001b[0;34m\u001b[0m\u001b[0;34m\u001b[0m\u001b[0m\n\u001b[0;32m----> 5\u001b[0;31m   \u001b[0ma\u001b[0m\u001b[0;34m,\u001b[0m \u001b[0mb\u001b[0m \u001b[0;34m=\u001b[0m \u001b[0mmap\u001b[0m\u001b[0;34m(\u001b[0m\u001b[0mint\u001b[0m\u001b[0;34m,\u001b[0m\u001b[0msys\u001b[0m\u001b[0;34m.\u001b[0m\u001b[0mstdin\u001b[0m\u001b[0;34m.\u001b[0m\u001b[0mreadline\u001b[0m\u001b[0;34m(\u001b[0m\u001b[0;34m)\u001b[0m\u001b[0;34m.\u001b[0m\u001b[0msplit\u001b[0m\u001b[0;34m(\u001b[0m\u001b[0;34m)\u001b[0m\u001b[0;34m)\u001b[0m\u001b[0;34m\u001b[0m\u001b[0;34m\u001b[0m\u001b[0m\n\u001b[0m\u001b[1;32m      6\u001b[0m   \u001b[0mprint\u001b[0m\u001b[0;34m(\u001b[0m\u001b[0ma\u001b[0m \u001b[0;34m+\u001b[0m \u001b[0mb\u001b[0m\u001b[0;34m)\u001b[0m\u001b[0;34m\u001b[0m\u001b[0;34m\u001b[0m\u001b[0m\n",
            "\u001b[0;31mValueError\u001b[0m: not enough values to unpack (expected 2, got 0)"
          ]
        }
      ]
    },
    {
      "cell_type": "markdown",
      "source": [
        "# 2741번 문제"
      ],
      "metadata": {
        "id": "4Yack-fx5ahC"
      }
    },
    {
      "cell_type": "code",
      "source": [
        "a = int(input())\n",
        "\n",
        "\n",
        "for i in range(a):\n",
        "  print(i+1)"
      ],
      "metadata": {
        "id": "fhiU1tyucjkY",
        "colab": {
          "base_uri": "https://localhost:8080/"
        },
        "outputId": "9b03958a-21d0-4f40-b6d5-0d92c57651e5"
      },
      "execution_count": null,
      "outputs": [
        {
          "output_type": "stream",
          "name": "stdout",
          "text": [
            "6\n",
            "1\n",
            "2\n",
            "3\n",
            "4\n",
            "5\n",
            "6\n"
          ]
        }
      ]
    },
    {
      "cell_type": "markdown",
      "source": [
        "# 2742번 문제"
      ],
      "metadata": {
        "id": "OSfynALG5Uxt"
      }
    },
    {
      "cell_type": "code",
      "source": [
        "a = int(input())\n",
        "\n",
        "for i in reversed(range(a)):\n",
        "  print(i+1)"
      ],
      "metadata": {
        "colab": {
          "base_uri": "https://localhost:8080/"
        },
        "id": "KbHm1LyvzI4Z",
        "outputId": "bd90fd8c-ab25-416f-bac8-87949cca925f"
      },
      "execution_count": null,
      "outputs": [
        {
          "output_type": "stream",
          "name": "stdout",
          "text": [
            "5\n",
            "5\n",
            "4\n",
            "3\n",
            "2\n",
            "1\n"
          ]
        }
      ]
    },
    {
      "cell_type": "markdown",
      "source": [
        "# 11021번 문제\n"
      ],
      "metadata": {
        "id": "LwHMD5yC5Bbb"
      }
    },
    {
      "cell_type": "code",
      "source": [
        "X = int(input())\n",
        "\n",
        "\n",
        "for i in range(X):\n",
        "  a,b = map(int,input().split())\n",
        "  print('Case #', i+1,':', a + b,sep='')"
      ],
      "metadata": {
        "colab": {
          "base_uri": "https://localhost:8080/"
        },
        "id": "OXXCfNuW1FaB",
        "outputId": "294c7409-5c82-4816-a6a6-9e52dbed3d5d"
      },
      "execution_count": null,
      "outputs": [
        {
          "output_type": "stream",
          "name": "stdout",
          "text": [
            "2\n",
            "1 1\n",
            "Case #1:2\n",
            "2 2\n",
            "Case #2:4\n"
          ]
        }
      ]
    },
    {
      "cell_type": "markdown",
      "source": [
        "# 2438번 별찍기 문제 \n"
      ],
      "metadata": {
        "id": "-bF0h1JZ4x01"
      }
    },
    {
      "cell_type": "code",
      "source": [
        "a = int(input())\n",
        "\n",
        "for i in range(1,a+1):\n",
        "  for j in range(0,i):\n",
        "    print('*', end = '')\n",
        "  print('')"
      ],
      "metadata": {
        "colab": {
          "base_uri": "https://localhost:8080/"
        },
        "id": "_JJ53JDR2bQc",
        "outputId": "5e6d9659-af37-40f0-861d-a2d4787e9471"
      },
      "execution_count": null,
      "outputs": [
        {
          "output_type": "stream",
          "name": "stdout",
          "text": [
            "5\n",
            "*\n",
            "**\n",
            "***\n",
            "****\n",
            "*****\n"
          ]
        }
      ]
    },
    {
      "cell_type": "markdown",
      "source": [
        "# 2439 별 찍기 - 2 문제"
      ],
      "metadata": {
        "id": "YHCf52pxXBl1"
      }
    },
    {
      "cell_type": "code",
      "source": [
        "a = int(input())\n",
        "\n",
        "for i in range(1,a+1):\n",
        "  for k in range(a-i):\n",
        "    print(' ', end = '')\n",
        "  for j in range(i):\n",
        "    print('*', end='')\n",
        "  print('')"
      ],
      "metadata": {
        "colab": {
          "base_uri": "https://localhost:8080/"
        },
        "id": "puYrLTDNXBSU",
        "outputId": "6d5fe640-e52b-4a1f-fa7b-8ab01504beb5"
      },
      "execution_count": null,
      "outputs": [
        {
          "output_type": "stream",
          "name": "stdout",
          "text": [
            "5\n",
            "    *\n",
            "   **\n",
            "  ***\n",
            " ****\n",
            "*****\n"
          ]
        }
      ]
    },
    {
      "cell_type": "markdown",
      "source": [
        "# 10871번 X보다 작은 수"
      ],
      "metadata": {
        "id": "Q4hPxVwo3Zhz"
      }
    },
    {
      "cell_type": "code",
      "source": [
        "import sys\n",
        "\n",
        "N,X = map(int,sys.stdin.readline().rstrip().split())\n",
        "\n",
        "A = list(map(int,sys.stdin.readline().rstrip().split()))\n",
        "\n",
        "for num in A:\n",
        "    if int(num) < X:\n",
        "        print(int(num),end=\" \")"
      ],
      "metadata": {
        "colab": {
          "base_uri": "https://localhost:8080/",
          "height": 248
        },
        "id": "ScalY-ow6NIX",
        "outputId": "b3b4ad02-6d29-4bd8-9955-3bc283c72c64"
      },
      "execution_count": null,
      "outputs": [
        {
          "output_type": "error",
          "ename": "ValueError",
          "evalue": "ignored",
          "traceback": [
            "\u001b[0;31m---------------------------------------------------------------------------\u001b[0m",
            "\u001b[0;31mValueError\u001b[0m                                Traceback (most recent call last)",
            "\u001b[0;32m<ipython-input-45-e9c81bdab2d6>\u001b[0m in \u001b[0;36m<module>\u001b[0;34m()\u001b[0m\n\u001b[1;32m      1\u001b[0m \u001b[0;32mimport\u001b[0m \u001b[0msys\u001b[0m\u001b[0;34m\u001b[0m\u001b[0;34m\u001b[0m\u001b[0m\n\u001b[1;32m      2\u001b[0m \u001b[0;34m\u001b[0m\u001b[0m\n\u001b[0;32m----> 3\u001b[0;31m \u001b[0mN\u001b[0m\u001b[0;34m,\u001b[0m\u001b[0mX\u001b[0m \u001b[0;34m=\u001b[0m \u001b[0mmap\u001b[0m\u001b[0;34m(\u001b[0m\u001b[0mint\u001b[0m\u001b[0;34m,\u001b[0m\u001b[0msys\u001b[0m\u001b[0;34m.\u001b[0m\u001b[0mstdin\u001b[0m\u001b[0;34m.\u001b[0m\u001b[0mreadline\u001b[0m\u001b[0;34m(\u001b[0m\u001b[0;34m)\u001b[0m\u001b[0;34m.\u001b[0m\u001b[0mrstrip\u001b[0m\u001b[0;34m(\u001b[0m\u001b[0;34m)\u001b[0m\u001b[0;34m.\u001b[0m\u001b[0msplit\u001b[0m\u001b[0;34m(\u001b[0m\u001b[0;34m)\u001b[0m\u001b[0;34m)\u001b[0m\u001b[0;34m\u001b[0m\u001b[0;34m\u001b[0m\u001b[0m\n\u001b[0m\u001b[1;32m      4\u001b[0m \u001b[0;34m\u001b[0m\u001b[0m\n\u001b[1;32m      5\u001b[0m \u001b[0mA\u001b[0m \u001b[0;34m=\u001b[0m \u001b[0mlist\u001b[0m\u001b[0;34m(\u001b[0m\u001b[0mmap\u001b[0m\u001b[0;34m(\u001b[0m\u001b[0mint\u001b[0m\u001b[0;34m,\u001b[0m\u001b[0msys\u001b[0m\u001b[0;34m.\u001b[0m\u001b[0mstdin\u001b[0m\u001b[0;34m.\u001b[0m\u001b[0mreadline\u001b[0m\u001b[0;34m(\u001b[0m\u001b[0;34m)\u001b[0m\u001b[0;34m.\u001b[0m\u001b[0mrstrip\u001b[0m\u001b[0;34m(\u001b[0m\u001b[0;34m)\u001b[0m\u001b[0;34m.\u001b[0m\u001b[0msplit\u001b[0m\u001b[0;34m(\u001b[0m\u001b[0;34m)\u001b[0m\u001b[0;34m)\u001b[0m\u001b[0;34m)\u001b[0m\u001b[0;34m\u001b[0m\u001b[0;34m\u001b[0m\u001b[0m\n",
            "\u001b[0;31mValueError\u001b[0m: not enough values to unpack (expected 2, got 0)"
          ]
        }
      ]
    },
    {
      "cell_type": "markdown",
      "source": [
        "# 10952번 A + B - 5 문제"
      ],
      "metadata": {
        "id": "9OTAOH-_-8Cr"
      }
    },
    {
      "cell_type": "code",
      "source": [
        "XList = []\n",
        "\n",
        "while True:\n",
        "    a, b = list(map(int, input().split()))\n",
        "    if a == 0 and b == 0:\n",
        "        break\n",
        "    XList.append(a+b)\n",
        "\n",
        "for X in XList:\n",
        "    print(X)"
      ],
      "metadata": {
        "colab": {
          "base_uri": "https://localhost:8080/"
        },
        "id": "J5EH0Yaqdp0z",
        "outputId": "cef5509c-8106-4c08-c889-66da2539ded6"
      },
      "execution_count": null,
      "outputs": [
        {
          "output_type": "stream",
          "name": "stdout",
          "text": [
            "9 8\n",
            "2 3\n",
            "0 0\n",
            "17\n",
            "5\n"
          ]
        }
      ]
    },
    {
      "cell_type": "markdown",
      "source": [
        "# 10951번 A + B - 4 문제"
      ],
      "metadata": {
        "id": "BM--4Bi11uxM"
      }
    },
    {
      "cell_type": "code",
      "source": [
        "while True:\n",
        "    try:\n",
        "        a,b=map(int,input().split())\n",
        "        print(a+b)\n",
        "    except:\n",
        "        break"
      ],
      "metadata": {
        "id": "-dLPMz-8eYui",
        "colab": {
          "base_uri": "https://localhost:8080/"
        },
        "outputId": "7838cfc0-309f-49c1-cc38-344df8c4df1d"
      },
      "execution_count": null,
      "outputs": [
        {
          "name": "stdout",
          "output_type": "stream",
          "text": [
            "1 1\n",
            "2\n",
            "2 2\n",
            "4\n",
            "\n"
          ]
        }
      ]
    },
    {
      "cell_type": "markdown",
      "source": [
        "# 11110번 더하기 사이클 문제 "
      ],
      "metadata": {
        "id": "x7PNwqhx2clb"
      }
    },
    {
      "cell_type": "code",
      "source": [
        "a = int(input())\n",
        "num = a\n",
        "count = 0\n",
        "\n",
        "while True:\n",
        "    x = num//10\n",
        "    b = num%10\n",
        "    c = (x+b)%10\n",
        "    num = (b*10) + c\n",
        "    count += 1 \n",
        "    if(num == a):\n",
        "        break\n",
        "print(count)"
      ],
      "metadata": {
        "id": "F3OaQ34F8nRu",
        "colab": {
          "base_uri": "https://localhost:8080/"
        },
        "outputId": "aac30394-60b4-4e2f-c02a-688bd3bd9f27"
      },
      "execution_count": null,
      "outputs": [
        {
          "output_type": "stream",
          "name": "stdout",
          "text": [
            "71\n",
            "12\n"
          ]
        }
      ]
    },
    {
      "cell_type": "markdown",
      "source": [
        "# 10818번 문제"
      ],
      "metadata": {
        "id": "N3OhV-Tepf3f"
      }
    },
    {
      "cell_type": "code",
      "source": [
        "N = int(input())\n",
        "x = N\n",
        "nums = [int(x) for x in input().split()]\n",
        "print(min(nums), max(nums)) # 파이썬 리스트 내포"
      ],
      "metadata": {
        "id": "0uf-4qSYueR_",
        "colab": {
          "base_uri": "https://localhost:8080/"
        },
        "outputId": "10c81a88-10f9-4cc9-eab1-773794ecdcd8"
      },
      "execution_count": null,
      "outputs": [
        {
          "output_type": "stream",
          "name": "stdout",
          "text": [
            "5\n",
            "20 10 35 30 7\n",
            "7 35\n"
          ]
        }
      ]
    },
    {
      "cell_type": "markdown",
      "source": [
        "# 2562번 문제"
      ],
      "metadata": {
        "id": "3-q5nBWXCYBB"
      }
    },
    {
      "cell_type": "code",
      "source": [
        "list = []\n",
        "for i in range(9):\n",
        "    list.append(int(input()))\n",
        "print(max(list))\n",
        "print(list.index(max(list))+1) # 파이썬 리스트 내포 안한 문제 (배열의 기본)"
      ],
      "metadata": {
        "colab": {
          "base_uri": "https://localhost:8080/"
        },
        "id": "NxS5AFumrkp_",
        "outputId": "3574c2b1-5632-4af0-900c-5b580ed20b27"
      },
      "execution_count": null,
      "outputs": [
        {
          "output_type": "stream",
          "name": "stdout",
          "text": [
            "3\n",
            "29\n",
            "38\n",
            "12\n",
            "57\n",
            "74\n",
            "40\n",
            "85\n",
            "61\n",
            "85\n",
            "8\n"
          ]
        }
      ]
    },
    {
      "cell_type": "markdown",
      "source": [
        "# 2577번 숫자의 개수 문제"
      ],
      "metadata": {
        "id": "lUviKAEu0Bzx"
      }
    },
    {
      "cell_type": "code",
      "source": [
        "A = int(input()); B = int(input()); C = int(input()) # ; \\n과 동일한 기능\n",
        "result =  str(A * B * C)\n",
        "\n",
        "for i in range(0,10):\n",
        "    print(result.count(str(i)))  # 각 자리에 있는 수를 구해야 함으로 문자열로 변형시켜 주어야 합니다."
      ],
      "metadata": {
        "colab": {
          "base_uri": "https://localhost:8080/"
        },
        "id": "1xTVo8gP0DHP",
        "outputId": "2f0de7c5-12c2-434b-8420-bbe1f5709d87"
      },
      "execution_count": null,
      "outputs": [
        {
          "output_type": "stream",
          "name": "stdout",
          "text": [
            "150\n",
            "266\n",
            "427\n",
            "3\n",
            "1\n",
            "0\n",
            "2\n",
            "0\n",
            "0\n",
            "0\n",
            "2\n",
            "0\n",
            "0\n"
          ]
        }
      ]
    },
    {
      "cell_type": "markdown",
      "source": [
        "# 3052번 나머지 문제"
      ],
      "metadata": {
        "id": "f7-1qU1J0jFU"
      }
    },
    {
      "cell_type": "code",
      "source": [
        "X = []\n",
        "Y = [] # 수를 넣을 공간\n",
        "\n",
        "for i in range(10):\n",
        "    a = int(input())\n",
        "    X.append(a % 42)  # append 함수: 새로운 값을 넣는 기능\n",
        "    \n",
        "for i in X:\n",
        "    if i not in Y: # 서로 다른 값일 때 넣는다.\n",
        "        Y.append(i)\n",
        "print(len(Y)) # 문자열의 길이 출력"
      ],
      "metadata": {
        "colab": {
          "base_uri": "https://localhost:8080/"
        },
        "id": "3gzyMrufmjua",
        "outputId": "b64b0f39-bf08-4236-c7de-977e3f2bfb6c"
      },
      "execution_count": null,
      "outputs": [
        {
          "output_type": "stream",
          "name": "stdout",
          "text": [
            "1\n",
            "2\n",
            "3\n",
            "4\n",
            "5\n",
            "6\n",
            "7\n",
            "8\n",
            "9\n",
            "10\n",
            "10\n"
          ]
        }
      ]
    },
    {
      "cell_type": "markdown",
      "source": [
        "# 1546번 평균 문제"
      ],
      "metadata": {
        "id": "uiIJW3eDtA1S"
      }
    },
    {
      "cell_type": "code",
      "source": [
        "a = int(input())\n",
        "b = list(map(int,input().split())) # list를 넣어 값을 변환하면 max값을 구할 수 있다.\n",
        "print((sum(b) / max(b) * 100) / a)"
      ],
      "metadata": {
        "colab": {
          "base_uri": "https://localhost:8080/"
        },
        "id": "k9lYmSsPuXNd",
        "outputId": "2286665c-7997-4dbd-ae7f-972e8cf0f8cd"
      },
      "execution_count": null,
      "outputs": [
        {
          "output_type": "stream",
          "name": "stdout",
          "text": [
            "30\n",
            "40 20 50\n",
            "7.333333333333334\n"
          ]
        }
      ]
    },
    {
      "cell_type": "markdown",
      "source": [
        "# 8958번 OX퀴즈"
      ],
      "metadata": {
        "id": "l9ZOVsTZyx_8"
      }
    },
    {
      "cell_type": "code",
      "source": [
        "a = int(input())\n",
        "X = []\n",
        "\n",
        "for i in range(a):\n",
        "    X.append(str(input()))\n",
        "    for j in X:\n",
        "        add = 1\n",
        "        point = 1\n",
        "        score = 0\n",
        "        for z in j:\n",
        "            if z == 'O':\n",
        "              score += add\n",
        "              point += 1\n",
        "              add = point\n",
        "            else:\n",
        "              point = 1\n",
        "              add = 1\n",
        "    print(score)"
      ],
      "metadata": {
        "colab": {
          "base_uri": "https://localhost:8080/"
        },
        "id": "iF6FGY2E_oFR",
        "outputId": "2114c3c6-22ce-4e92-f5a3-a18a92f0349f"
      },
      "execution_count": 1,
      "outputs": [
        {
          "output_type": "stream",
          "name": "stdout",
          "text": [
            "5\n",
            "OOXXOXXOOO\n",
            "10\n",
            "OOXXOOXXOO\n",
            "9\n",
            "OXOXOXOXOX\n",
            "5\n",
            "OOOOOOOOOO\n",
            "55\n",
            "OOOOXOOOOXOOOOX\n",
            "30\n"
          ]
        }
      ]
    },
    {
      "cell_type": "markdown",
      "source": [
        "# 4344번 평균은 넘겠지"
      ],
      "metadata": {
        "id": "RZAWNqaAGZiZ"
      }
    },
    {
      "cell_type": "code",
      "source": [
        "X = []\n",
        "\n",
        "for a in range(int(input())):\n",
        "    X.append(list(map(int,input().split())))\n",
        "\n",
        "for a in X:\n",
        "    avg = sum(a[1:]) / a[0]\n",
        "    cnt = 0\n",
        "    for score in a[1:]:\n",
        "        if score > avg:\n",
        "            cnt += 1\n",
        "    rate = cnt/a[0] * 100\n",
        "    print(f'{rate:.3f}%')"
      ],
      "metadata": {
        "colab": {
          "base_uri": "https://localhost:8080/"
        },
        "id": "Dz7FY7LOSNfy",
        "outputId": "c97a553b-3ed7-48c9-f97b-8887ca32e065"
      },
      "execution_count": 37,
      "outputs": [
        {
          "output_type": "stream",
          "name": "stdout",
          "text": [
            "5\n",
            "5 50 50 70 80 100\n",
            "7 100 95 90 80 70 60 50\n",
            "3 70 90 80\n",
            "3 70 90 81\n",
            "9 100 99 98 97 96 95 94 93 91\n",
            "40.000%\n",
            "57.143%\n",
            "33.333%\n",
            "66.667%\n",
            "55.556%\n"
          ]
        }
      ]
    },
    {
      "cell_type": "code",
      "source": [
        "l=[]\n",
        "for i in range(int(input())):\n",
        "    l.append(list(map(int,input().split())))\n",
        "for i in l:\n",
        "    ave=sum(i[1:])/i[0]\n",
        "    k=0\n",
        "    for j in i[1:]:\n",
        "        if j>ave:\n",
        "            k+=1\n",
        "    print(f'{round(k/i[0]*100,3):.3f}%')"
      ],
      "metadata": {
        "colab": {
          "base_uri": "https://localhost:8080/"
        },
        "id": "H5l-9nVVjXRm",
        "outputId": "57f5e33e-26a2-45a0-b885-56d736d352ac"
      },
      "execution_count": 22,
      "outputs": [
        {
          "output_type": "stream",
          "name": "stdout",
          "text": [
            "5\n",
            "5 50 50 70 80 100\n",
            "7 100 95 90 80 70 60 50 \n",
            "3 70 90 80\n",
            "3 70 90 81\n",
            "9 100 99 98 97 96 95 94 93 91\n",
            "40.000%\n",
            "57.143%\n",
            "33.333%\n",
            "66.667%\n",
            "55.556%\n"
          ]
        }
      ]
    },
    {
      "cell_type": "code",
      "source": [
        ""
      ],
      "metadata": {
        "id": "6VDRtzEGr3MY"
      },
      "execution_count": null,
      "outputs": []
    }
  ]
}