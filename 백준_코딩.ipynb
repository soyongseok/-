{
  "nbformat": 4,
  "nbformat_minor": 0,
  "metadata": {
    "colab": {
      "name": "백준 코딩.ipynb",
      "provenance": [],
      "collapsed_sections": [],
      "authorship_tag": "ABX9TyOFXCFtqgR6Cc3jb+98J1hZ",
      "include_colab_link": true
    },
    "kernelspec": {
      "name": "python3",
      "display_name": "Python 3"
    },
    "language_info": {
      "name": "python"
    }
  },
  "cells": [
    {
      "cell_type": "markdown",
      "metadata": {
        "id": "view-in-github",
        "colab_type": "text"
      },
      "source": [
        "<a href=\"https://colab.research.google.com/github/soyongseok/-/blob/main/%EB%B0%B1%EC%A4%80_%EC%BD%94%EB%94%A9.ipynb\" target=\"_parent\"><img src=\"https://colab.research.google.com/assets/colab-badge.svg\" alt=\"Open In Colab\"/></a>"
      ]
    },
    {
      "cell_type": "code",
      "execution_count": null,
      "metadata": {
        "colab": {
          "base_uri": "https://localhost:8080/"
        },
        "id": "VtGeiDkZa7av",
        "outputId": "1b44da3d-1698-40c1-ca59-39d0ab9d00b7"
      },
      "outputs": [
        {
          "output_type": "stream",
          "name": "stdout",
          "text": [
            "5 8 4\n",
            "1\n",
            "1\n",
            "0\n",
            "0\n"
          ]
        }
      ],
      "source": [
        "a, b, c = map(int,input().split())\n",
        "print((a+b)%c)\n",
        "print(((a%c)+(b%c))%c)\n",
        "print((a*b)%c)\n",
        "print(((a%c)*(b%c))%c)"
      ]
    },
    {
      "cell_type": "code",
      "source": [
        "a, b = map(int, input().split())\n",
        "print((a+b)-1)"
      ],
      "metadata": {
        "colab": {
          "base_uri": "https://localhost:8080/"
        },
        "id": "GEFaX2Qt4qM3",
        "outputId": "183367c7-7197-4823-f145-96bcc64425e6"
      },
      "execution_count": null,
      "outputs": [
        {
          "output_type": "stream",
          "name": "stdout",
          "text": [
            "1 1\n",
            "1\n"
          ]
        }
      ]
    },
    {
      "cell_type": "code",
      "source": [
        "a,b = map(int, input().split())\n",
        "\n",
        "print(('Case #x')"
      ],
      "metadata": {
        "colab": {
          "base_uri": "https://localhost:8080/"
        },
        "id": "onj4Y-pC4-9E",
        "outputId": "e3eb1058-dc87-4089-e999-f944a49f6f47"
      },
      "execution_count": null,
      "outputs": [
        {
          "output_type": "stream",
          "name": "stdout",
          "text": [
            "2 2\n",
            "3\n"
          ]
        }
      ]
    },
    {
      "cell_type": "code",
      "source": [
        "K = int(input())\n",
        "\n",
        "for i in range(K) :\n",
        "    a,b = map(int, input().split())\n",
        "    print(\"Case #\", i+1,': ', a+b, sep='')"
      ],
      "metadata": {
        "id": "r9_L7WSp6mlA",
        "colab": {
          "base_uri": "https://localhost:8080/"
        },
        "outputId": "e03160c3-58c8-4a10-fe68-7dc09fd97d83"
      },
      "execution_count": null,
      "outputs": [
        {
          "output_type": "stream",
          "name": "stdout",
          "text": [
            "1\n",
            "2 2\n",
            "Case #1: 4\n"
          ]
        }
      ]
    },
    {
      "cell_type": "code",
      "source": [
        "a = int(input())\n",
        "\n",
        "for i in rnage(a):\n",
        "  a,b = map(int,input().split())\n",
        "  print('Case #'a, i+1,'a + ')"
      ],
      "metadata": {
        "colab": {
          "base_uri": "https://localhost:8080/",
          "height": 266
        },
        "id": "rN8uZac9Zl1E",
        "outputId": "54dea52c-8129-42f5-c1a3-bb85769d0c1b"
      },
      "execution_count": null,
      "outputs": [
        {
          "name": "stdout",
          "output_type": "stream",
          "text": [
            "1\n",
            "1 \n"
          ]
        },
        {
          "output_type": "error",
          "ename": "ValueError",
          "evalue": "ignored",
          "traceback": [
            "\u001b[0;31m---------------------------------------------------------------------------\u001b[0m",
            "\u001b[0;31mValueError\u001b[0m                                Traceback (most recent call last)",
            "\u001b[0;32m<ipython-input-36-2a5fe5174eca>\u001b[0m in \u001b[0;36m<module>\u001b[0;34m()\u001b[0m\n\u001b[1;32m      2\u001b[0m \u001b[0;34m\u001b[0m\u001b[0m\n\u001b[1;32m      3\u001b[0m \u001b[0;32mfor\u001b[0m \u001b[0mi\u001b[0m \u001b[0;32min\u001b[0m \u001b[0mrange\u001b[0m\u001b[0;34m(\u001b[0m\u001b[0mK\u001b[0m\u001b[0;34m)\u001b[0m \u001b[0;34m:\u001b[0m\u001b[0;34m\u001b[0m\u001b[0;34m\u001b[0m\u001b[0m\n\u001b[0;32m----> 4\u001b[0;31m    \u001b[0ma\u001b[0m\u001b[0;34m,\u001b[0m\u001b[0mb\u001b[0m \u001b[0;34m=\u001b[0m \u001b[0mmap\u001b[0m\u001b[0;34m(\u001b[0m\u001b[0mint\u001b[0m\u001b[0;34m,\u001b[0m \u001b[0minput\u001b[0m\u001b[0;34m(\u001b[0m\u001b[0;34m)\u001b[0m\u001b[0;34m.\u001b[0m\u001b[0msplit\u001b[0m\u001b[0;34m(\u001b[0m\u001b[0;34m)\u001b[0m\u001b[0;34m)\u001b[0m\u001b[0;34m\u001b[0m\u001b[0;34m\u001b[0m\u001b[0m\n\u001b[0m\u001b[1;32m      5\u001b[0m    \u001b[0mprint\u001b[0m\u001b[0;34m(\u001b[0m\u001b[0;34m\"Case #\"\u001b[0m\u001b[0;34m,\u001b[0m \u001b[0mi\u001b[0m\u001b[0;34m+\u001b[0m\u001b[0;36m1\u001b[0m\u001b[0;34m,\u001b[0m\u001b[0;34m': '\u001b[0m\u001b[0;34m,\u001b[0m \u001b[0ma\u001b[0m\u001b[0;34m+\u001b[0m\u001b[0mb\u001b[0m\u001b[0;34m,\u001b[0m \u001b[0msep\u001b[0m\u001b[0;34m=\u001b[0m\u001b[0;34m''\u001b[0m\u001b[0;34m)\u001b[0m\u001b[0;34m\u001b[0m\u001b[0;34m\u001b[0m\u001b[0m\n",
            "\u001b[0;31mValueError\u001b[0m: not enough values to unpack (expected 2, got 1)"
          ]
        }
      ]
    },
    {
      "cell_type": "code",
      "source": [
        "import sys\n",
        "\n",
        "K = int(input())\n",
        "for i in range(K):\n",
        "    a,b = map(int, input().split())\n",
        "    c = a + b\n",
        "    print(\"Case #%d: %d + %d = %d\" %(i+1, a, b, c))"
      ],
      "metadata": {
        "id": "fUe3xc2LklSu",
        "colab": {
          "base_uri": "https://localhost:8080/"
        },
        "outputId": "eb90add3-a98b-4161-ebf7-e04699314e05"
      },
      "execution_count": null,
      "outputs": [
        {
          "output_type": "stream",
          "name": "stdout",
          "text": [
            "5\n",
            "1 1\n",
            "Case #1: 1 + 1 = 2\n",
            "2 1\n",
            "Case #2: 2 + 1 = 3\n",
            "3 1\n",
            "Case #3: 3 + 1 = 4\n",
            "4 1\n",
            "Case #4: 4 + 1 = 5\n",
            "5 1\n",
            "Case #5: 5 + 1 = 6\n"
          ]
        }
      ]
    },
    {
      "cell_type": "code",
      "source": [
        "import datetime\n",
        "\n",
        "print(str(datetime.datetime.today())[:10])"
      ],
      "metadata": {
        "colab": {
          "base_uri": "https://localhost:8080/"
        },
        "id": "JzuwPQlrvVAh",
        "outputId": "a181623d-8d1e-4375-baa2-570de063c003"
      },
      "execution_count": null,
      "outputs": [
        {
          "output_type": "stream",
          "name": "stdout",
          "text": [
            "2022-05-17\n"
          ]
        }
      ]
    },
    {
      "cell_type": "code",
      "source": [
        "a = int(input())\n",
        "\n",
        "if a >= 90:\n",
        "  print('A')\n",
        "elif a >= 80:\n",
        "  print('B')\n",
        "elif a >= 70:\n",
        "  print('C')\n",
        "elif a >= 60:\n",
        "  print('D')\n",
        "else:\n",
        "  print('F')"
      ],
      "metadata": {
        "id": "-rgGC5y8xqvv",
        "colab": {
          "base_uri": "https://localhost:8080/"
        },
        "outputId": "b21c6157-1092-4bc8-c046-33718577d719"
      },
      "execution_count": null,
      "outputs": [
        {
          "output_type": "stream",
          "name": "stdout",
          "text": [
            "102\n",
            "F\n"
          ]
        }
      ]
    },
    {
      "cell_type": "code",
      "source": [
        "a = int(input())\n",
        "\n",
        "if (a % 4 == 0 and  a % 100 != 0) or a % 400 == 0:\n",
        "  print('1')\n",
        "else:\n",
        "  print('0')"
      ],
      "metadata": {
        "colab": {
          "base_uri": "https://localhost:8080/"
        },
        "id": "u6OJzOr-g03V",
        "outputId": "5a47902c-6600-4cd6-a0e0-8793adb664a8"
      },
      "execution_count": null,
      "outputs": [
        {
          "output_type": "stream",
          "name": "stdout",
          "text": [
            "1999\n",
            "0\n"
          ]
        }
      ]
    },
    {
      "cell_type": "code",
      "source": [
        "a = int(input())\n",
        "b = int(input())\n",
        "if a<0 and b>0:\n",
        "  print('2')\n",
        "elif a>0 and b>0:\n",
        " print('1')\n",
        "elif a<0 and b<0:\n",
        " print('3')\n",
        "else:\n",
        " print('4')"
      ],
      "metadata": {
        "colab": {
          "base_uri": "https://localhost:8080/"
        },
        "id": "5Ss--jGJnleb",
        "outputId": "73e731d4-14d7-4905-a2e4-2c9b81a8060f"
      },
      "execution_count": null,
      "outputs": [
        {
          "output_type": "stream",
          "name": "stdout",
          "text": [
            "9\n",
            "-13\n",
            "4\n"
          ]
        }
      ]
    },
    {
      "cell_type": "code",
      "source": [
        "H,M = map(int, input().split())\n",
        "\n",
        "if H>=1 and M >= 45 :\n",
        "  print(H, M-45)\n",
        "elif H>=1 and M < 45 :\n",
        "  print(H-1, 60-abs(M-45))\n",
        "elif H<1 and M >= 45 :\n",
        "  print(H, M-45)\n",
        "elif H<1 and M < 45 :\n",
        "  print(24-abs(H-1), 60-abs(M-45))"
      ],
      "metadata": {
        "id": "vbsnIAWCrZJD",
        "colab": {
          "base_uri": "https://localhost:8080/"
        },
        "outputId": "41d460ae-cab3-4cbc-b1cf-e8c9ebaf874e"
      },
      "execution_count": null,
      "outputs": [
        {
          "output_type": "stream",
          "name": "stdout",
          "text": [
            "9 45\n",
            "9 0\n"
          ]
        }
      ]
    },
    {
      "cell_type": "code",
      "source": [
        "a, b = map(int, input().split())\n",
        "c = int(input())\n",
        "\n",
        "a += c // 60\n",
        "b += c % 60\n",
        "\n",
        "if b>=60:\n",
        "  a += 1\n",
        "  b -= 60\n",
        "if a >= 24:\n",
        "  a -= 24\n",
        "print(a,b)"
      ],
      "metadata": {
        "id": "cJcf9r26xT5g",
        "colab": {
          "base_uri": "https://localhost:8080/"
        },
        "outputId": "7446cb6b-407f-4766-8eca-ee40f7cbebb8"
      },
      "execution_count": 18,
      "outputs": [
        {
          "output_type": "stream",
          "name": "stdout",
          "text": [
            "23 48\n",
            "25\n",
            "0 13\n"
          ]
        }
      ]
    },
    {
      "cell_type": "code",
      "source": [
        "19"
      ],
      "metadata": {
        "id": "OTwJss6AhgJy"
      },
      "execution_count": null,
      "outputs": []
    }
  ]
}