{
  "nbformat": 4,
  "nbformat_minor": 0,
  "metadata": {
    "colab": {
      "name": "백준 코딩.ipynb",
      "provenance": [],
      "collapsed_sections": [],
      "authorship_tag": "ABX9TyMRfQAToNNtCovAlswJrmya",
      "include_colab_link": true
    },
    "kernelspec": {
      "name": "python3",
      "display_name": "Python 3"
    },
    "language_info": {
      "name": "python"
    },
    "accelerator": "GPU"
  },
  "cells": [
    {
      "cell_type": "markdown",
      "metadata": {
        "id": "view-in-github",
        "colab_type": "text"
      },
      "source": [
        "<a href=\"https://colab.research.google.com/github/soyongseok/-/blob/main/%EB%B0%B1%EC%A4%80_%EC%BD%94%EB%94%A9.ipynb\" target=\"_parent\"><img src=\"https://colab.research.google.com/assets/colab-badge.svg\" alt=\"Open In Colab\"/></a>"
      ]
    },
    {
      "cell_type": "markdown",
      "source": [
        "# 10430번 나머지 문제"
      ],
      "metadata": {
        "id": "UfPCDj-cJwy4"
      }
    },
    {
      "cell_type": "code",
      "execution_count": null,
      "metadata": {
        "colab": {
          "base_uri": "https://localhost:8080/"
        },
        "id": "VtGeiDkZa7av",
        "outputId": "1b44da3d-1698-40c1-ca59-39d0ab9d00b7"
      },
      "outputs": [
        {
          "output_type": "stream",
          "name": "stdout",
          "text": [
            "5 8 4\n",
            "1\n",
            "1\n",
            "0\n",
            "0\n"
          ]
        }
      ],
      "source": [
        "a, b, c = map(int,input().split())\n",
        "print((a+b)%c)\n",
        "print(((a%c)+(b%c))%c)\n",
        "print((a*b)%c)\n",
        "print(((a%c)*(b%c))%c)"
      ]
    },
    {
      "cell_type": "markdown",
      "source": [
        "# 2163번 초콜릿 자르기 문제"
      ],
      "metadata": {
        "id": "o2DC-qDyMhpk"
      }
    },
    {
      "cell_type": "code",
      "source": [
        "a, b = map(int, input().split())\n",
        "print((a+b)-1)"
      ],
      "metadata": {
        "colab": {
          "base_uri": "https://localhost:8080/"
        },
        "id": "GEFaX2Qt4qM3",
        "outputId": "183367c7-7197-4823-f145-96bcc64425e6"
      },
      "execution_count": null,
      "outputs": [
        {
          "output_type": "stream",
          "name": "stdout",
          "text": [
            "1 1\n",
            "1\n"
          ]
        }
      ]
    },
    {
      "cell_type": "markdown",
      "source": [
        "# 10952번 A+B - 5 문제"
      ],
      "metadata": {
        "id": "CtxEv4hFPpgt"
      }
    },
    {
      "cell_type": "code",
      "source": [
        "resultList = []\n",
        "\n",
        "while True:\n",
        "    a, b = list(map(int, input().split()))\n",
        "    if a ==0 and b == 0:\n",
        "        break\n",
        "    resultList.append(a+b)\n",
        "\n",
        "for result in resultList:\n",
        "    print(result)"
      ],
      "metadata": {
        "id": "dM_984UTPpUM"
      },
      "execution_count": null,
      "outputs": []
    },
    {
      "cell_type": "code",
      "source": [
        "K = int(input())\n",
        "\n",
        "for i in range(K) :\n",
        "    a,b = map(int, input().split())\n",
        "    print(\"Case #\", i+1,': ', a+b, sep='')"
      ],
      "metadata": {
        "id": "r9_L7WSp6mlA",
        "colab": {
          "base_uri": "https://localhost:8080/",
          "height": 263
        },
        "outputId": "73d73175-6f43-4d1d-fbfc-8ad91524c1e2"
      },
      "execution_count": null,
      "outputs": [
        {
          "name": "stdout",
          "output_type": "stream",
          "text": [
            "22\n",
            "2\n"
          ]
        },
        {
          "output_type": "error",
          "ename": "ValueError",
          "evalue": "ignored",
          "traceback": [
            "\u001b[0;31m---------------------------------------------------------------------------\u001b[0m",
            "\u001b[0;31mValueError\u001b[0m                                Traceback (most recent call last)",
            "\u001b[0;32m<ipython-input-13-4f7fb0864965>\u001b[0m in \u001b[0;36m<module>\u001b[0;34m()\u001b[0m\n\u001b[1;32m      2\u001b[0m \u001b[0;34m\u001b[0m\u001b[0m\n\u001b[1;32m      3\u001b[0m \u001b[0;32mfor\u001b[0m \u001b[0mi\u001b[0m \u001b[0;32min\u001b[0m \u001b[0mrange\u001b[0m\u001b[0;34m(\u001b[0m\u001b[0mK\u001b[0m\u001b[0;34m)\u001b[0m \u001b[0;34m:\u001b[0m\u001b[0;34m\u001b[0m\u001b[0;34m\u001b[0m\u001b[0m\n\u001b[0;32m----> 4\u001b[0;31m     \u001b[0ma\u001b[0m\u001b[0;34m,\u001b[0m\u001b[0mb\u001b[0m \u001b[0;34m=\u001b[0m \u001b[0mmap\u001b[0m\u001b[0;34m(\u001b[0m\u001b[0mint\u001b[0m\u001b[0;34m,\u001b[0m \u001b[0minput\u001b[0m\u001b[0;34m(\u001b[0m\u001b[0;34m)\u001b[0m\u001b[0;34m.\u001b[0m\u001b[0msplit\u001b[0m\u001b[0;34m(\u001b[0m\u001b[0;34m)\u001b[0m\u001b[0;34m)\u001b[0m\u001b[0;34m\u001b[0m\u001b[0;34m\u001b[0m\u001b[0m\n\u001b[0m\u001b[1;32m      5\u001b[0m     \u001b[0mprint\u001b[0m\u001b[0;34m(\u001b[0m\u001b[0;34m\"Case #\"\u001b[0m\u001b[0;34m,\u001b[0m \u001b[0mi\u001b[0m\u001b[0;34m+\u001b[0m\u001b[0;36m1\u001b[0m\u001b[0;34m,\u001b[0m\u001b[0;34m': '\u001b[0m\u001b[0;34m,\u001b[0m \u001b[0ma\u001b[0m\u001b[0;34m+\u001b[0m\u001b[0mb\u001b[0m\u001b[0;34m,\u001b[0m \u001b[0msep\u001b[0m\u001b[0;34m=\u001b[0m\u001b[0;34m''\u001b[0m\u001b[0;34m)\u001b[0m\u001b[0;34m\u001b[0m\u001b[0;34m\u001b[0m\u001b[0m\n",
            "\u001b[0;31mValueError\u001b[0m: not enough values to unpack (expected 2, got 1)"
          ]
        }
      ]
    },
    {
      "cell_type": "code",
      "source": [
        "a = int(input())\n",
        "\n",
        "for i in range(a):\n",
        "  a, b = map(int,input().split())\n",
        "  print('Case #', a, ':', i+1,%d'+'%d')"
      ],
      "metadata": {
        "colab": {
          "base_uri": "https://localhost:8080/",
          "height": 136
        },
        "id": "rN8uZac9Zl1E",
        "outputId": "c1269746-3eed-46a6-ede9-2d123d61fd75"
      },
      "execution_count": null,
      "outputs": [
        {
          "output_type": "error",
          "ename": "SyntaxError",
          "evalue": "ignored",
          "traceback": [
            "\u001b[0;36m  File \u001b[0;32m\"<ipython-input-26-101bd2595908>\"\u001b[0;36m, line \u001b[0;32m5\u001b[0m\n\u001b[0;31m    print('Case #', a, ':', i+1,%d'+'%d)\u001b[0m\n\u001b[0m                                ^\u001b[0m\n\u001b[0;31mSyntaxError\u001b[0m\u001b[0;31m:\u001b[0m invalid syntax\n"
          ]
        }
      ]
    },
    {
      "cell_type": "markdown",
      "source": [
        "#11022번 A+B - 8 문제"
      ],
      "metadata": {
        "id": "J9gnsgDDOVXX"
      }
    },
    {
      "cell_type": "code",
      "source": [
        "import sys\n",
        "\n",
        "K = int(input())\n",
        "for i in range(K):\n",
        "    a,b = map(int, input().split())\n",
        "    c = a + b\n",
        "    print(\"Case #%d: %d + %d = %d\" %(i+1, a, b, c))"
      ],
      "metadata": {
        "id": "fUe3xc2LklSu",
        "colab": {
          "base_uri": "https://localhost:8080/"
        },
        "outputId": "eb90add3-a98b-4161-ebf7-e04699314e05"
      },
      "execution_count": null,
      "outputs": [
        {
          "output_type": "stream",
          "name": "stdout",
          "text": [
            "5\n",
            "1 1\n",
            "Case #1: 1 + 1 = 2\n",
            "2 1\n",
            "Case #2: 2 + 1 = 3\n",
            "3 1\n",
            "Case #3: 3 + 1 = 4\n",
            "4 1\n",
            "Case #4: 4 + 1 = 5\n",
            "5 1\n",
            "Case #5: 5 + 1 = 6\n"
          ]
        }
      ]
    },
    {
      "cell_type": "markdown",
      "source": [
        "# 10699번 오늘 날짜 문제"
      ],
      "metadata": {
        "id": "1MRzTZkpNuBu"
      }
    },
    {
      "cell_type": "code",
      "source": [
        "import datetime\n",
        "\n",
        "print(str(datetime.datetime.today())[:10])"
      ],
      "metadata": {
        "colab": {
          "base_uri": "https://localhost:8080/"
        },
        "id": "JzuwPQlrvVAh",
        "outputId": "d445f76b-df86-47c2-abee-ee24828b8e58"
      },
      "execution_count": null,
      "outputs": [
        {
          "output_type": "stream",
          "name": "stdout",
          "text": [
            "2022-05-21\n"
          ]
        }
      ]
    },
    {
      "cell_type": "markdown",
      "source": [
        "# 9498번 시험 성적 문제"
      ],
      "metadata": {
        "id": "bOrc2glOIPV4"
      }
    },
    {
      "cell_type": "code",
      "source": [
        "a = int(input())\n",
        "\n",
        "if a >= 90:\n",
        "  print('A')\n",
        "elif a >= 80:\n",
        "  print('B')\n",
        "elif a >= 70:\n",
        "  print('C')\n",
        "elif a >= 60:\n",
        "  print('D')\n",
        "else:\n",
        "  print('F')"
      ],
      "metadata": {
        "id": "-rgGC5y8xqvv",
        "colab": {
          "base_uri": "https://localhost:8080/"
        },
        "outputId": "b21c6157-1092-4bc8-c046-33718577d719"
      },
      "execution_count": null,
      "outputs": [
        {
          "output_type": "stream",
          "name": "stdout",
          "text": [
            "102\n",
            "F\n"
          ]
        }
      ]
    },
    {
      "cell_type": "markdown",
      "source": [
        "# 2753번 윤년 문제"
      ],
      "metadata": {
        "id": "RP53vdcqIWIp"
      }
    },
    {
      "cell_type": "code",
      "source": [
        "a = int(input())\n",
        "\n",
        "if (a % 4 == 0 and  a % 100 != 0) or a % 400 == 0:\n",
        "  print('1')\n",
        "else:\n",
        "  print('0')"
      ],
      "metadata": {
        "colab": {
          "base_uri": "https://localhost:8080/"
        },
        "id": "u6OJzOr-g03V",
        "outputId": "5a47902c-6600-4cd6-a0e0-8793adb664a8"
      },
      "execution_count": null,
      "outputs": [
        {
          "output_type": "stream",
          "name": "stdout",
          "text": [
            "1999\n",
            "0\n"
          ]
        }
      ]
    },
    {
      "cell_type": "markdown",
      "source": [
        "# 14681번 사분면 고르기 문제"
      ],
      "metadata": {
        "id": "9fzDSFcbIeqG"
      }
    },
    {
      "cell_type": "code",
      "source": [
        "a = int(input())\n",
        "b = int(input())\n",
        "if a<0 and b>0:\n",
        "  print('2')\n",
        "elif a>0 and b>0:\n",
        " print('1')\n",
        "elif a<0 and b<0:\n",
        " print('3')\n",
        "else:\n",
        " print('4')"
      ],
      "metadata": {
        "colab": {
          "base_uri": "https://localhost:8080/"
        },
        "id": "5Ss--jGJnleb",
        "outputId": "73e731d4-14d7-4905-a2e4-2c9b81a8060f"
      },
      "execution_count": null,
      "outputs": [
        {
          "output_type": "stream",
          "name": "stdout",
          "text": [
            "9\n",
            "-13\n",
            "4\n"
          ]
        }
      ]
    },
    {
      "cell_type": "markdown",
      "source": [
        "# 2884번 알람 시계 문제"
      ],
      "metadata": {
        "id": "KruTtvnrIpRc"
      }
    },
    {
      "cell_type": "code",
      "source": [
        "H,M = map(int, input().split())\n",
        "\n",
        "if H>=1 and M >= 45 :\n",
        "  print(H, M-45)\n",
        "elif H>=1 and M < 45 :\n",
        "  print(H-1, 60-abs(M-45))\n",
        "elif H<1 and M >= 45 :\n",
        "  print(H, M-45)\n",
        "elif H<1 and M < 45 :\n",
        "  print(24-abs(H-1), 60-abs(M-45))"
      ],
      "metadata": {
        "id": "vbsnIAWCrZJD",
        "colab": {
          "base_uri": "https://localhost:8080/"
        },
        "outputId": "41d460ae-cab3-4cbc-b1cf-e8c9ebaf874e"
      },
      "execution_count": null,
      "outputs": [
        {
          "output_type": "stream",
          "name": "stdout",
          "text": [
            "9 45\n",
            "9 0\n"
          ]
        }
      ]
    },
    {
      "cell_type": "markdown",
      "source": [
        "# 2525번 오븐 시계 문제"
      ],
      "metadata": {
        "id": "uIEXZl5ZIu9E"
      }
    },
    {
      "cell_type": "code",
      "source": [
        "a, b = map(int, input().split())\n",
        "c = int(input())\n",
        "\n",
        "a += c // 60\n",
        "b += c % 60\n",
        "\n",
        "if b>=60:\n",
        "  a += 1\n",
        "  b -= 60\n",
        "if a >= 24:\n",
        "  a -= 24\n",
        "print(a,b)"
      ],
      "metadata": {
        "id": "cJcf9r26xT5g",
        "colab": {
          "base_uri": "https://localhost:8080/"
        },
        "outputId": "7446cb6b-407f-4766-8eca-ee40f7cbebb8"
      },
      "execution_count": null,
      "outputs": [
        {
          "output_type": "stream",
          "name": "stdout",
          "text": [
            "23 48\n",
            "25\n",
            "0 13\n"
          ]
        }
      ]
    },
    {
      "cell_type": "markdown",
      "source": [
        "# 2480번 주사위 세개 문제"
      ],
      "metadata": {
        "id": "C4CvoNU9I0nQ"
      }
    },
    {
      "cell_type": "code",
      "source": [
        "a, b, c = map(int, input().split())\n",
        "\n",
        "if (a==b==c):\n",
        "  X = 10000+a*1000\n",
        "elif (a==b!=c):\n",
        "  X = 1000 + a * 100\n",
        "elif b==c!=a:\n",
        "  X = 1000 + b * 100\n",
        "elif a==c!=b:\n",
        "  X = 1000 + a * 100\n",
        "elif a!=b!=c:\n",
        "  if (a > b and a > c):\n",
        "   X = a * 100\n",
        "  elif (b > a and b > c):\n",
        "   X = b * 100\n",
        "  elif (c > b and c > a):\n",
        "   X = c * 100\n",
        "print(X)"
      ],
      "metadata": {
        "colab": {
          "base_uri": "https://localhost:8080/"
        },
        "id": "OTwJss6AhgJy",
        "outputId": "b7a7f5d3-2e24-4eb8-cb31-0eddd2e4b7c0"
      },
      "execution_count": null,
      "outputs": [
        {
          "output_type": "stream",
          "name": "stdout",
          "text": [
            "3 3 6\n",
            "1300\n"
          ]
        }
      ]
    },
    {
      "cell_type": "markdown",
      "source": [
        "# 2739번 구구단 문제"
      ],
      "metadata": {
        "id": "YOvtOZH_N_sa"
      }
    },
    {
      "cell_type": "code",
      "source": [
        "X = int(input())\n",
        "\n",
        "for i in range (1, 10):\n",
        "  a = X * i\n",
        "  print(X, '*', i, '=', a)"
      ],
      "metadata": {
        "colab": {
          "base_uri": "https://localhost:8080/"
        },
        "id": "rcM6rsNHkrsX",
        "outputId": "49a7fd02-e20b-4099-ef1f-4f1f2dab7376"
      },
      "execution_count": null,
      "outputs": [
        {
          "output_type": "stream",
          "name": "stdout",
          "text": [
            "158\n",
            "158 * 1 = 158\n",
            "158 * 2 = 316\n",
            "158 * 3 = 474\n",
            "158 * 4 = 632\n",
            "158 * 5 = 790\n",
            "158 * 6 = 948\n",
            "158 * 7 = 1106\n",
            "158 * 8 = 1264\n",
            "158 * 9 = 1422\n"
          ]
        }
      ]
    },
    {
      "cell_type": "markdown",
      "source": [
        "# 15552번 빠른 A+B 문제"
      ],
      "metadata": {
        "id": "xQK9QEGuNiKL"
      }
    },
    {
      "cell_type": "code",
      "source": [
        "X = int(input())\n",
        "\n",
        "for i in range(X):\n",
        "  a, b = map(int,input().split())\n",
        "  print(a + b)"
      ],
      "metadata": {
        "colab": {
          "base_uri": "https://localhost:8080/"
        },
        "id": "m2kz43oCk-kO",
        "outputId": "f3b12c6c-3835-43d2-f19b-014b06e083fc"
      },
      "execution_count": null,
      "outputs": [
        {
          "output_type": "stream",
          "name": "stdout",
          "text": [
            "5\n",
            "1 1\n",
            "2\n",
            "2 3\n",
            "5\n",
            "3 3\n",
            "6\n",
            "5 6\n",
            "11\n",
            "2 3\n",
            "5\n"
          ]
        }
      ]
    },
    {
      "cell_type": "code",
      "source": [
        "a = int(input())\n",
        "M = 0\n",
        "\n",
        "for i in range(a+1):\n",
        "  M += i\n",
        "print(M)"
      ],
      "metadata": {
        "id": "gVL11MCatfzc",
        "colab": {
          "base_uri": "https://localhost:8080/"
        },
        "outputId": "b0d83a23-09d6-411f-fbfd-be9eebbcf287"
      },
      "execution_count": null,
      "outputs": [
        {
          "output_type": "stream",
          "name": "stdout",
          "text": [
            "2\n",
            "3\n"
          ]
        }
      ]
    },
    {
      "cell_type": "markdown",
      "source": [
        "#15552번 문제"
      ],
      "metadata": {
        "id": "oB5sMk2X5fmp"
      }
    },
    {
      "cell_type": "code",
      "source": [
        "import sys\n",
        "X = int(input())\n",
        "\n",
        "for i in range(X):\n",
        "  a, b = map(int,sys.stdin.readline().split())\n",
        "  print(a + b)"
      ],
      "metadata": {
        "colab": {
          "base_uri": "https://localhost:8080/",
          "height": 248
        },
        "id": "9dg3mvBgFQqu",
        "outputId": "6b5ca888-9f72-4c2f-de16-a67978143fed"
      },
      "execution_count": null,
      "outputs": [
        {
          "name": "stdout",
          "output_type": "stream",
          "text": [
            "5\n"
          ]
        },
        {
          "output_type": "error",
          "ename": "ValueError",
          "evalue": "ignored",
          "traceback": [
            "\u001b[0;31m---------------------------------------------------------------------------\u001b[0m",
            "\u001b[0;31mValueError\u001b[0m                                Traceback (most recent call last)",
            "\u001b[0;32m<ipython-input-7-d4dd5ea1b301>\u001b[0m in \u001b[0;36m<module>\u001b[0;34m()\u001b[0m\n\u001b[1;32m      3\u001b[0m \u001b[0;34m\u001b[0m\u001b[0m\n\u001b[1;32m      4\u001b[0m \u001b[0;32mfor\u001b[0m \u001b[0mi\u001b[0m \u001b[0;32min\u001b[0m \u001b[0mrange\u001b[0m\u001b[0;34m(\u001b[0m\u001b[0mX\u001b[0m\u001b[0;34m)\u001b[0m\u001b[0;34m:\u001b[0m\u001b[0;34m\u001b[0m\u001b[0;34m\u001b[0m\u001b[0m\n\u001b[0;32m----> 5\u001b[0;31m   \u001b[0ma\u001b[0m\u001b[0;34m,\u001b[0m \u001b[0mb\u001b[0m \u001b[0;34m=\u001b[0m \u001b[0mmap\u001b[0m\u001b[0;34m(\u001b[0m\u001b[0mint\u001b[0m\u001b[0;34m,\u001b[0m\u001b[0msys\u001b[0m\u001b[0;34m.\u001b[0m\u001b[0mstdin\u001b[0m\u001b[0;34m.\u001b[0m\u001b[0mreadline\u001b[0m\u001b[0;34m(\u001b[0m\u001b[0;34m)\u001b[0m\u001b[0;34m.\u001b[0m\u001b[0msplit\u001b[0m\u001b[0;34m(\u001b[0m\u001b[0;34m)\u001b[0m\u001b[0;34m)\u001b[0m\u001b[0;34m\u001b[0m\u001b[0;34m\u001b[0m\u001b[0m\n\u001b[0m\u001b[1;32m      6\u001b[0m   \u001b[0mprint\u001b[0m\u001b[0;34m(\u001b[0m\u001b[0ma\u001b[0m \u001b[0;34m+\u001b[0m \u001b[0mb\u001b[0m\u001b[0;34m)\u001b[0m\u001b[0;34m\u001b[0m\u001b[0;34m\u001b[0m\u001b[0m\n",
            "\u001b[0;31mValueError\u001b[0m: not enough values to unpack (expected 2, got 0)"
          ]
        }
      ]
    },
    {
      "cell_type": "markdown",
      "source": [
        "# 2741번 문제"
      ],
      "metadata": {
        "id": "4Yack-fx5ahC"
      }
    },
    {
      "cell_type": "code",
      "source": [
        "a = int(input())\n",
        "\n",
        "\n",
        "for i in range(a):\n",
        "  print(i+1)"
      ],
      "metadata": {
        "id": "fhiU1tyucjkY",
        "colab": {
          "base_uri": "https://localhost:8080/"
        },
        "outputId": "9b03958a-21d0-4f40-b6d5-0d92c57651e5"
      },
      "execution_count": null,
      "outputs": [
        {
          "output_type": "stream",
          "name": "stdout",
          "text": [
            "6\n",
            "1\n",
            "2\n",
            "3\n",
            "4\n",
            "5\n",
            "6\n"
          ]
        }
      ]
    },
    {
      "cell_type": "markdown",
      "source": [
        "# 2742번 문제"
      ],
      "metadata": {
        "id": "OSfynALG5Uxt"
      }
    },
    {
      "cell_type": "code",
      "source": [
        "a = int(input())\n",
        "\n",
        "for i in reversed(range(a)):\n",
        "  print(i+1)"
      ],
      "metadata": {
        "colab": {
          "base_uri": "https://localhost:8080/"
        },
        "id": "KbHm1LyvzI4Z",
        "outputId": "bd90fd8c-ab25-416f-bac8-87949cca925f"
      },
      "execution_count": null,
      "outputs": [
        {
          "output_type": "stream",
          "name": "stdout",
          "text": [
            "5\n",
            "5\n",
            "4\n",
            "3\n",
            "2\n",
            "1\n"
          ]
        }
      ]
    },
    {
      "cell_type": "markdown",
      "source": [
        "# 11021번 문제\n"
      ],
      "metadata": {
        "id": "LwHMD5yC5Bbb"
      }
    },
    {
      "cell_type": "code",
      "source": [
        "X = int(input())\n",
        "\n",
        "\n",
        "for i in range(X):\n",
        "  a,b = map(int,input().split())\n",
        "  print('Case #', i+1,':', a + b,sep='')"
      ],
      "metadata": {
        "colab": {
          "base_uri": "https://localhost:8080/"
        },
        "id": "OXXCfNuW1FaB",
        "outputId": "294c7409-5c82-4816-a6a6-9e52dbed3d5d"
      },
      "execution_count": null,
      "outputs": [
        {
          "output_type": "stream",
          "name": "stdout",
          "text": [
            "2\n",
            "1 1\n",
            "Case #1:2\n",
            "2 2\n",
            "Case #2:4\n"
          ]
        }
      ]
    },
    {
      "cell_type": "markdown",
      "source": [
        "# 2438번 별찍기 문제 \n"
      ],
      "metadata": {
        "id": "-bF0h1JZ4x01"
      }
    },
    {
      "cell_type": "code",
      "source": [
        "a = int(input())\n",
        "\n",
        "for i in range(1,a+1):\n",
        "  for j in range(0,i):\n",
        "    print('*', end = '')\n",
        "  print('')"
      ],
      "metadata": {
        "colab": {
          "base_uri": "https://localhost:8080/"
        },
        "id": "_JJ53JDR2bQc",
        "outputId": "5e6d9659-af37-40f0-861d-a2d4787e9471"
      },
      "execution_count": null,
      "outputs": [
        {
          "output_type": "stream",
          "name": "stdout",
          "text": [
            "5\n",
            "*\n",
            "**\n",
            "***\n",
            "****\n",
            "*****\n"
          ]
        }
      ]
    },
    {
      "cell_type": "markdown",
      "source": [
        "# 2439 별 찍기 - 2 문제"
      ],
      "metadata": {
        "id": "YHCf52pxXBl1"
      }
    },
    {
      "cell_type": "code",
      "source": [
        "a = int(input())\n",
        "\n",
        "for i in range(1,a+1):\n",
        "  for k in range(a-i):\n",
        "    print(' ', end = '')\n",
        "  for j in range(i):\n",
        "    print('*', end='')\n",
        "  print('')"
      ],
      "metadata": {
        "colab": {
          "base_uri": "https://localhost:8080/"
        },
        "id": "puYrLTDNXBSU",
        "outputId": "6d5fe640-e52b-4a1f-fa7b-8ab01504beb5"
      },
      "execution_count": null,
      "outputs": [
        {
          "output_type": "stream",
          "name": "stdout",
          "text": [
            "5\n",
            "    *\n",
            "   **\n",
            "  ***\n",
            " ****\n",
            "*****\n"
          ]
        }
      ]
    },
    {
      "cell_type": "markdown",
      "source": [
        "# 10871번 X보다 작은 수"
      ],
      "metadata": {
        "id": "Q4hPxVwo3Zhz"
      }
    },
    {
      "cell_type": "code",
      "source": [
        "import sys\n",
        "\n",
        "N,X = map(int,sys.stdin.readline().rstrip().split())\n",
        "\n",
        "A = list(map(int,sys.stdin.readline().rstrip().split()))\n",
        "\n",
        "for num in A:\n",
        "    if int(num) < X:\n",
        "        print(int(num),end=\" \")"
      ],
      "metadata": {
        "colab": {
          "base_uri": "https://localhost:8080/",
          "height": 248
        },
        "id": "ScalY-ow6NIX",
        "outputId": "b3b4ad02-6d29-4bd8-9955-3bc283c72c64"
      },
      "execution_count": null,
      "outputs": [
        {
          "output_type": "error",
          "ename": "ValueError",
          "evalue": "ignored",
          "traceback": [
            "\u001b[0;31m---------------------------------------------------------------------------\u001b[0m",
            "\u001b[0;31mValueError\u001b[0m                                Traceback (most recent call last)",
            "\u001b[0;32m<ipython-input-45-e9c81bdab2d6>\u001b[0m in \u001b[0;36m<module>\u001b[0;34m()\u001b[0m\n\u001b[1;32m      1\u001b[0m \u001b[0;32mimport\u001b[0m \u001b[0msys\u001b[0m\u001b[0;34m\u001b[0m\u001b[0;34m\u001b[0m\u001b[0m\n\u001b[1;32m      2\u001b[0m \u001b[0;34m\u001b[0m\u001b[0m\n\u001b[0;32m----> 3\u001b[0;31m \u001b[0mN\u001b[0m\u001b[0;34m,\u001b[0m\u001b[0mX\u001b[0m \u001b[0;34m=\u001b[0m \u001b[0mmap\u001b[0m\u001b[0;34m(\u001b[0m\u001b[0mint\u001b[0m\u001b[0;34m,\u001b[0m\u001b[0msys\u001b[0m\u001b[0;34m.\u001b[0m\u001b[0mstdin\u001b[0m\u001b[0;34m.\u001b[0m\u001b[0mreadline\u001b[0m\u001b[0;34m(\u001b[0m\u001b[0;34m)\u001b[0m\u001b[0;34m.\u001b[0m\u001b[0mrstrip\u001b[0m\u001b[0;34m(\u001b[0m\u001b[0;34m)\u001b[0m\u001b[0;34m.\u001b[0m\u001b[0msplit\u001b[0m\u001b[0;34m(\u001b[0m\u001b[0;34m)\u001b[0m\u001b[0;34m)\u001b[0m\u001b[0;34m\u001b[0m\u001b[0;34m\u001b[0m\u001b[0m\n\u001b[0m\u001b[1;32m      4\u001b[0m \u001b[0;34m\u001b[0m\u001b[0m\n\u001b[1;32m      5\u001b[0m \u001b[0mA\u001b[0m \u001b[0;34m=\u001b[0m \u001b[0mlist\u001b[0m\u001b[0;34m(\u001b[0m\u001b[0mmap\u001b[0m\u001b[0;34m(\u001b[0m\u001b[0mint\u001b[0m\u001b[0;34m,\u001b[0m\u001b[0msys\u001b[0m\u001b[0;34m.\u001b[0m\u001b[0mstdin\u001b[0m\u001b[0;34m.\u001b[0m\u001b[0mreadline\u001b[0m\u001b[0;34m(\u001b[0m\u001b[0;34m)\u001b[0m\u001b[0;34m.\u001b[0m\u001b[0mrstrip\u001b[0m\u001b[0;34m(\u001b[0m\u001b[0;34m)\u001b[0m\u001b[0;34m.\u001b[0m\u001b[0msplit\u001b[0m\u001b[0;34m(\u001b[0m\u001b[0;34m)\u001b[0m\u001b[0;34m)\u001b[0m\u001b[0;34m)\u001b[0m\u001b[0;34m\u001b[0m\u001b[0;34m\u001b[0m\u001b[0m\n",
            "\u001b[0;31mValueError\u001b[0m: not enough values to unpack (expected 2, got 0)"
          ]
        }
      ]
    },
    {
      "cell_type": "markdown",
      "source": [
        "# 10952번 A + B - 5 문제"
      ],
      "metadata": {
        "id": "9OTAOH-_-8Cr"
      }
    },
    {
      "cell_type": "code",
      "source": [
        "XList = []\n",
        "\n",
        "while True:\n",
        "    a, b = list(map(int, input().split()))\n",
        "    if a == 0 and b == 0:\n",
        "        break\n",
        "    XList.append(a+b)\n",
        "\n",
        "for X in XList:\n",
        "    print(X)"
      ],
      "metadata": {
        "colab": {
          "base_uri": "https://localhost:8080/"
        },
        "id": "J5EH0Yaqdp0z",
        "outputId": "cef5509c-8106-4c08-c889-66da2539ded6"
      },
      "execution_count": null,
      "outputs": [
        {
          "output_type": "stream",
          "name": "stdout",
          "text": [
            "9 8\n",
            "2 3\n",
            "0 0\n",
            "17\n",
            "5\n"
          ]
        }
      ]
    },
    {
      "cell_type": "markdown",
      "source": [
        "# 10951번 A + B - 4 문제"
      ],
      "metadata": {
        "id": "BM--4Bi11uxM"
      }
    },
    {
      "cell_type": "code",
      "source": [
        "while True:\n",
        "    try:\n",
        "        a,b=map(int,input().split())\n",
        "        print(a+b)\n",
        "    except:\n",
        "        break"
      ],
      "metadata": {
        "id": "-dLPMz-8eYui",
        "colab": {
          "base_uri": "https://localhost:8080/"
        },
        "outputId": "7838cfc0-309f-49c1-cc38-344df8c4df1d"
      },
      "execution_count": null,
      "outputs": [
        {
          "name": "stdout",
          "output_type": "stream",
          "text": [
            "1 1\n",
            "2\n",
            "2 2\n",
            "4\n",
            "\n"
          ]
        }
      ]
    },
    {
      "cell_type": "markdown",
      "source": [
        "# 11110번 더하기 사이클 문제 "
      ],
      "metadata": {
        "id": "x7PNwqhx2clb"
      }
    },
    {
      "cell_type": "code",
      "source": [
        "a = int(input())\n",
        "num = a\n",
        "count = 0\n",
        "\n",
        "while True:\n",
        "    x = num//10\n",
        "    b = num%10\n",
        "    c = (x+b)%10\n",
        "    num = (b*10) + c\n",
        "    count += 1 \n",
        "    if(num == a):\n",
        "        break\n",
        "print(count)"
      ],
      "metadata": {
        "id": "F3OaQ34F8nRu",
        "colab": {
          "base_uri": "https://localhost:8080/"
        },
        "outputId": "aac30394-60b4-4e2f-c02a-688bd3bd9f27"
      },
      "execution_count": null,
      "outputs": [
        {
          "output_type": "stream",
          "name": "stdout",
          "text": [
            "71\n",
            "12\n"
          ]
        }
      ]
    },
    {
      "cell_type": "markdown",
      "source": [
        "# 10818번 문제"
      ],
      "metadata": {
        "id": "N3OhV-Tepf3f"
      }
    },
    {
      "cell_type": "code",
      "source": [
        "N = int(input())\n",
        "x = N\n",
        "nums = [int(x) for x in input().split()]\n",
        "print(min(nums), max(nums)) # 파이썬 리스트 내포"
      ],
      "metadata": {
        "id": "0uf-4qSYueR_",
        "colab": {
          "base_uri": "https://localhost:8080/"
        },
        "outputId": "10c81a88-10f9-4cc9-eab1-773794ecdcd8"
      },
      "execution_count": null,
      "outputs": [
        {
          "output_type": "stream",
          "name": "stdout",
          "text": [
            "5\n",
            "20 10 35 30 7\n",
            "7 35\n"
          ]
        }
      ]
    },
    {
      "cell_type": "markdown",
      "source": [
        "# 2562번 문제"
      ],
      "metadata": {
        "id": "3-q5nBWXCYBB"
      }
    },
    {
      "cell_type": "code",
      "source": [
        "list = []\n",
        "for i in range(9):\n",
        "    list.append(int(input()))\n",
        "print(max(list))\n",
        "print(list.index(max(list))+1) # 파이썬 리스트 내포 안한 문제 (배열의 기본)"
      ],
      "metadata": {
        "colab": {
          "base_uri": "https://localhost:8080/"
        },
        "id": "NxS5AFumrkp_",
        "outputId": "3574c2b1-5632-4af0-900c-5b580ed20b27"
      },
      "execution_count": null,
      "outputs": [
        {
          "output_type": "stream",
          "name": "stdout",
          "text": [
            "3\n",
            "29\n",
            "38\n",
            "12\n",
            "57\n",
            "74\n",
            "40\n",
            "85\n",
            "61\n",
            "85\n",
            "8\n"
          ]
        }
      ]
    },
    {
      "cell_type": "markdown",
      "source": [
        "# 2577번 숫자의 개수 문제"
      ],
      "metadata": {
        "id": "lUviKAEu0Bzx"
      }
    },
    {
      "cell_type": "code",
      "source": [
        "A = int(input()); B = int(input()); C = int(input()) # ; \\n과 동일한 기능\n",
        "result =  str(A * B * C)\n",
        "\n",
        "for i in range(0,10):\n",
        "    print(result.count(str(i)))  # 각 자리에 있는 수를 구해야 함으로 문자열로 변형시켜 주어야 합니다."
      ],
      "metadata": {
        "colab": {
          "base_uri": "https://localhost:8080/"
        },
        "id": "1xTVo8gP0DHP",
        "outputId": "2f0de7c5-12c2-434b-8420-bbe1f5709d87"
      },
      "execution_count": null,
      "outputs": [
        {
          "output_type": "stream",
          "name": "stdout",
          "text": [
            "150\n",
            "266\n",
            "427\n",
            "3\n",
            "1\n",
            "0\n",
            "2\n",
            "0\n",
            "0\n",
            "0\n",
            "2\n",
            "0\n",
            "0\n"
          ]
        }
      ]
    },
    {
      "cell_type": "markdown",
      "source": [
        "# 3052번 나머지 문제"
      ],
      "metadata": {
        "id": "f7-1qU1J0jFU"
      }
    },
    {
      "cell_type": "code",
      "source": [
        "X = []\n",
        "Y = [] # 수를 넣을 공간\n",
        "\n",
        "for i in range(10):\n",
        "    a = int(input())\n",
        "    X.append(a % 42)  # append 함수: 새로운 값을 넣는 기능\n",
        "    \n",
        "for i in X:\n",
        "    if i not in Y: # 서로 다른 값일 때 넣는다.\n",
        "        Y.append(i)\n",
        "print(len(Y)) # 문자열의 길이 출력"
      ],
      "metadata": {
        "colab": {
          "base_uri": "https://localhost:8080/"
        },
        "id": "3gzyMrufmjua",
        "outputId": "b64b0f39-bf08-4236-c7de-977e3f2bfb6c"
      },
      "execution_count": null,
      "outputs": [
        {
          "output_type": "stream",
          "name": "stdout",
          "text": [
            "1\n",
            "2\n",
            "3\n",
            "4\n",
            "5\n",
            "6\n",
            "7\n",
            "8\n",
            "9\n",
            "10\n",
            "10\n"
          ]
        }
      ]
    },
    {
      "cell_type": "markdown",
      "source": [
        "# 1546번 평균 문제"
      ],
      "metadata": {
        "id": "uiIJW3eDtA1S"
      }
    },
    {
      "cell_type": "code",
      "source": [
        "a = int(input())\n",
        "b = list(map(int,input().split())) # list를 넣어 값을 변환하면 max값을 구할 수 있다.\n",
        "print((sum(b) / max(b) * 100) / a)"
      ],
      "metadata": {
        "colab": {
          "base_uri": "https://localhost:8080/"
        },
        "id": "k9lYmSsPuXNd",
        "outputId": "050ff219-dfc6-43e9-ac86-ce254ce38e52"
      },
      "execution_count": null,
      "outputs": [
        {
          "output_type": "stream",
          "name": "stdout",
          "text": [
            "30\n",
            "40 20 50\n",
            "7.333333333333334\n"
          ]
        }
      ]
    },
    {
      "cell_type": "markdown",
      "source": [
        "# 8958번 OX퀴즈"
      ],
      "metadata": {
        "id": "l9ZOVsTZyx_8"
      }
    },
    {
      "cell_type": "code",
      "source": [
        "a = int(input())\n",
        "X = []\n",
        "\n",
        "for i in range(a):\n",
        "    X.append(str(input()))\n",
        "    for j in X:\n",
        "        add = 1\n",
        "        point = 1\n",
        "        score = 0\n",
        "        for z in j:\n",
        "            if z == 'O':\n",
        "              score += add\n",
        "              point += 1\n",
        "              add = point\n",
        "            else:\n",
        "              point = 1\n",
        "              add = 1\n",
        "    print(score)"
      ],
      "metadata": {
        "colab": {
          "base_uri": "https://localhost:8080/"
        },
        "id": "iF6FGY2E_oFR",
        "outputId": "2114c3c6-22ce-4e92-f5a3-a18a92f0349f"
      },
      "execution_count": null,
      "outputs": [
        {
          "output_type": "stream",
          "name": "stdout",
          "text": [
            "5\n",
            "OOXXOXXOOO\n",
            "10\n",
            "OOXXOOXXOO\n",
            "9\n",
            "OXOXOXOXOX\n",
            "5\n",
            "OOOOOOOOOO\n",
            "55\n",
            "OOOOXOOOOXOOOOX\n",
            "30\n"
          ]
        }
      ]
    },
    {
      "cell_type": "markdown",
      "source": [
        "# 4344번 평균은 넘겠지"
      ],
      "metadata": {
        "id": "RZAWNqaAGZiZ"
      }
    },
    {
      "cell_type": "code",
      "source": [
        "X = []\n",
        "\n",
        "for a in range(int(input())):\n",
        "    X.append(list(map(int,input().split())))\n",
        "\n",
        "for a in X:\n",
        "    avg = sum(a[1:]) / a[0]\n",
        "    cnt = 0\n",
        "    for score in a[1:]:\n",
        "        if score > avg:\n",
        "            cnt += 1\n",
        "    rate = cnt/a[0] * 100\n",
        "    print(f'{rate:.3f}%')"
      ],
      "metadata": {
        "colab": {
          "base_uri": "https://localhost:8080/"
        },
        "id": "Dz7FY7LOSNfy",
        "outputId": "c97a553b-3ed7-48c9-f97b-8887ca32e065"
      },
      "execution_count": null,
      "outputs": [
        {
          "output_type": "stream",
          "name": "stdout",
          "text": [
            "5\n",
            "5 50 50 70 80 100\n",
            "7 100 95 90 80 70 60 50\n",
            "3 70 90 80\n",
            "3 70 90 81\n",
            "9 100 99 98 97 96 95 94 93 91\n",
            "40.000%\n",
            "57.143%\n",
            "33.333%\n",
            "66.667%\n",
            "55.556%\n"
          ]
        }
      ]
    },
    {
      "cell_type": "code",
      "source": [
        "l=[]\n",
        "for i in range(int(input())):\n",
        "    l.append(list(map(int,input().split())))\n",
        "for i in l:\n",
        "    ave=sum(i[1:])/i[0]\n",
        "    k=0\n",
        "    for j in i[1:]:\n",
        "        if j>ave:\n",
        "            k+=1\n",
        "    print(f'{round(k/i[0]*100,3):.3f}%')"
      ],
      "metadata": {
        "colab": {
          "base_uri": "https://localhost:8080/"
        },
        "id": "H5l-9nVVjXRm",
        "outputId": "57f5e33e-26a2-45a0-b885-56d736d352ac"
      },
      "execution_count": null,
      "outputs": [
        {
          "output_type": "stream",
          "name": "stdout",
          "text": [
            "5\n",
            "5 50 50 70 80 100\n",
            "7 100 95 90 80 70 60 50 \n",
            "3 70 90 80\n",
            "3 70 90 81\n",
            "9 100 99 98 97 96 95 94 93 91\n",
            "40.000%\n",
            "57.143%\n",
            "33.333%\n",
            "66.667%\n",
            "55.556%\n"
          ]
        }
      ]
    },
    {
      "cell_type": "markdown",
      "source": [
        "# 15596번 정수 N개의 합"
      ],
      "metadata": {
        "id": "6VDRtzEGr3MY"
      }
    },
    {
      "cell_type": "code",
      "source": [
        "def solve(a):\n",
        "    list = sum(a)\n",
        "    return list"
      ],
      "metadata": {
        "colab": {
          "base_uri": "https://localhost:8080/"
        },
        "id": "cJI1Q1hp_vpw",
        "outputId": "84f6b94d-4332-4b59-f6bc-1cd7fbf90c71"
      },
      "execution_count": null,
      "outputs": [
        {
          "output_type": "stream",
          "name": "stdout",
          "text": [
            "[9, 100, 99, 98, 97, 96, 95, 94, 93, 91]\n"
          ]
        }
      ]
    },
    {
      "cell_type": "markdown",
      "source": [
        "# 4673번 셀프 넘버"
      ],
      "metadata": {
        "id": "t2o6N4SVBWuX"
      }
    },
    {
      "cell_type": "code",
      "source": [
        "def solve(a):  # 문제에서 주어진 d(n) 함수\n",
        "    number = a  # 33을 입력하면\n",
        "    for i in list(str(a)):  # 리스트로 나누어 [3,3]으로 나누고\n",
        "        number += int(i) # 더한다\n",
        "    return number # 리턴\n",
        "\n",
        "nothing = [] # 셀프넘버가 아닌 애들의 배열\n",
        "\n",
        "for i in range(10000):  # 10000까지 돌림\n",
        "    nothing.append(solve(i)) #셀프넘버가 아닌 수를 넣고\n",
        "    \n",
        "for j in range(10000):\n",
        "    if j in nothing: # j에 nothing이랑 일치하면\n",
        "        pass  # pass하고\n",
        "    else:\n",
        "        print(j)   # 없으면 셀프넘버이니 출력"
      ],
      "metadata": {
        "id": "5NzeY1kra2Kr"
      },
      "execution_count": null,
      "outputs": []
    },
    {
      "cell_type": "markdown",
      "source": [
        "# 1065번 한수 문제"
      ],
      "metadata": {
        "id": "v6lnojinE4EQ"
      }
    },
    {
      "cell_type": "code",
      "source": [
        "def solve(num):\n",
        "    hansu_cnt = 0\n",
        "    for i in range(1, num+1):\n",
        "        num_list = list(map(int,str(i)))\n",
        "        if i < 100:  # 100 미만은 모두 한수\n",
        "            hansu_cnt += 1\n",
        "        elif num_list[0]-num_list[1] == num_list[1]-num_list[2]: # 등차수열의 특징\n",
        "            hansu_cnt += 1\n",
        "    return hansu_cnt\n",
        "num = int(input())\n",
        "print(solve(num))"
      ],
      "metadata": {
        "colab": {
          "base_uri": "https://localhost:8080/"
        },
        "id": "XzfIa-kqE4YC",
        "outputId": "8ddf3d50-0a02-442f-ca1e-3392c2489e44"
      },
      "execution_count": null,
      "outputs": [
        {
          "output_type": "stream",
          "name": "stdout",
          "text": [
            "210\n",
            "105\n"
          ]
        }
      ]
    },
    {
      "cell_type": "code",
      "source": [
        "num = int(input())\n",
        "\n",
        "hansu = 0\n",
        "for i in range(1, num+1):\n",
        "    num_list = list(map(int, str(i)))\n",
        "    if i < 100:\n",
        "        hansu += 1  # 100보다 작으면 모두 한수\n",
        "    elif num_list[0]-num_list[1] == num_list[1]-num_list[2]:\n",
        "        hansu += 1  # x의 각 자리가 등차수열이면 한수\n",
        "print(hansu)"
      ],
      "metadata": {
        "colab": {
          "base_uri": "https://localhost:8080/"
        },
        "id": "S79Qx7MWH151",
        "outputId": "36ee4e33-38f7-4e07-875e-dff123b60e4b"
      },
      "execution_count": null,
      "outputs": [
        {
          "output_type": "stream",
          "name": "stdout",
          "text": [
            "210\n",
            "105\n"
          ]
        }
      ]
    },
    {
      "cell_type": "markdown",
      "source": [
        "# 11654번 아스키 코드 문제"
      ],
      "metadata": {
        "id": "kLRlOKz0JfQ0"
      }
    },
    {
      "cell_type": "code",
      "source": [
        "a = ord(input())\n",
        "print(a)"
      ],
      "metadata": {
        "colab": {
          "base_uri": "https://localhost:8080/"
        },
        "id": "9S0Taz95-bHA",
        "outputId": "66fa66c0-9300-4947-badb-4194648a545a"
      },
      "execution_count": null,
      "outputs": [
        {
          "output_type": "stream",
          "name": "stdout",
          "text": [
            "z\n",
            "122\n"
          ]
        }
      ]
    },
    {
      "cell_type": "markdown",
      "source": [
        "# 11720번 숫자의 합"
      ],
      "metadata": {
        "id": "lXnsMyHj-xkA"
      }
    },
    {
      "cell_type": "code",
      "source": [
        "a = int(input())\n",
        "b = list(str(input()))\n",
        "c = 0\n",
        "\n",
        "for i in range(a):\n",
        "    c += int(b[i])\n",
        "print(c)"
      ],
      "metadata": {
        "id": "SZEYFN8d_PDL",
        "colab": {
          "base_uri": "https://localhost:8080/"
        },
        "outputId": "54c1cad3-0d8d-4a2d-a88c-252ca1b4e690"
      },
      "execution_count": null,
      "outputs": [
        {
          "output_type": "stream",
          "name": "stdout",
          "text": [
            "5\n",
            "00700\n",
            "7\n"
          ]
        }
      ]
    },
    {
      "cell_type": "markdown",
      "source": [
        "# 10809번 알파벳 찾기"
      ],
      "metadata": {
        "id": "RMpkpZ-hDMpE"
      }
    },
    {
      "cell_type": "code",
      "source": [
        "a = input()\n",
        "x = 'abcdefghijklmnopqrstuvwxyz'\n",
        "\n",
        "for i in x:  # str 이라 range안씀 \n",
        "    if i in a:\n",
        "        index = a.find(i)\n",
        "        print(index)\n",
        "    else:\n",
        "        print('-1')"
      ],
      "metadata": {
        "colab": {
          "base_uri": "https://localhost:8080/"
        },
        "id": "49k7LLwoy7bn",
        "outputId": "e5bd1625-2b66-4f3a-b0ea-b3e03e139c63"
      },
      "execution_count": null,
      "outputs": [
        {
          "output_type": "stream",
          "name": "stdout",
          "text": [
            "baekjoon\n",
            "1\n",
            "0\n",
            "-1\n",
            "-1\n",
            "2\n",
            "-1\n",
            "-1\n",
            "-1\n",
            "-1\n",
            "4\n",
            "3\n",
            "-1\n",
            "-1\n",
            "7\n",
            "5\n",
            "-1\n",
            "-1\n",
            "-1\n",
            "-1\n",
            "-1\n",
            "-1\n",
            "-1\n",
            "-1\n",
            "-1\n",
            "-1\n",
            "-1\n"
          ]
        }
      ]
    },
    {
      "cell_type": "code",
      "source": [
        "T = int(input())\n",
        "\n",
        "for i in range(T):\n",
        "    R ,S = input().split() # 한 개는 정수 한개는 list이기 때문에 map 사용 X\n",
        "    R = int(R)\n",
        "    S = list(S)\n",
        "    for j in range(len(S)):\n",
        "        print(S[j]*R, end = '')\n",
        "    print()"
      ],
      "metadata": {
        "colab": {
          "base_uri": "https://localhost:8080/"
        },
        "id": "iPmCDxUIht2l",
        "outputId": "729e1258-b9c8-4b3d-f831-ca709f17e0d1"
      },
      "execution_count": null,
      "outputs": [
        {
          "output_type": "stream",
          "name": "stdout",
          "text": [
            "2\n",
            "3 ABC\n",
            "AAABBBCCC\n",
            "5 /HTP\n",
            "/////HHHHHTTTTTPPPPP\n"
          ]
        }
      ]
    },
    {
      "cell_type": "markdown",
      "source": [
        "# 1157번 단어 공부 문제"
      ],
      "metadata": {
        "id": "RT8DNucOjD7J"
      }
    },
    {
      "cell_type": "code",
      "source": [
        "a = input().upper() # upper 대문자 변환 함수\n",
        "\n",
        "alist = list(set(a)) # set 함수는 중복을 허용하지 않고, {}로 묶는다.\n",
        "cnt = []\n",
        "\n",
        "for i in alist:\n",
        "    count = a.count\n",
        "    cnt.append(count(i))\n",
        "if cnt.count(max(cnt)) > 1:\n",
        "    print('?')\n",
        "else:\n",
        "    print(alist[(cnt.index(max(cnt)))])"
      ],
      "metadata": {
        "id": "bZvEjIbtjbiK",
        "colab": {
          "base_uri": "https://localhost:8080/"
        },
        "outputId": "2d8e18f5-cf51-4aa9-8da0-41ed9bf84d55"
      },
      "execution_count": null,
      "outputs": [
        {
          "output_type": "stream",
          "name": "stdout",
          "text": [
            "baaa\n",
            "A\n"
          ]
        }
      ]
    },
    {
      "cell_type": "markdown",
      "source": [
        "# 1152번 단어의 개수 문제"
      ],
      "metadata": {
        "id": "h7pI7taE0AhX"
      }
    },
    {
      "cell_type": "code",
      "source": [
        "a = tuple(input().split())\n",
        "print(len(a))"
      ],
      "metadata": {
        "id": "R8MSiTdPptiU",
        "colab": {
          "base_uri": "https://localhost:8080/"
        },
        "outputId": "337f82b4-7b06-4d16-b006-1d5090c28b23"
      },
      "execution_count": null,
      "outputs": [
        {
          "output_type": "stream",
          "name": "stdout",
          "text": [
            "a a a\n",
            "3\n"
          ]
        }
      ]
    },
    {
      "cell_type": "markdown",
      "source": [
        "# 2908번 상수 문제"
      ],
      "metadata": {
        "id": "Xf7i3NbzvrId"
      }
    },
    {
      "cell_type": "code",
      "source": [
        "a, b = input().split()\n",
        "\n",
        "X = list(reversed(a))\n",
        "Y = list(reversed(b))\n",
        "\n",
        "if X > Y:\n",
        "    print(X[0]+X[1]+X[2])\n",
        "elif X < Y:\n",
        "    print(Y[0]+Y[1]+Y[2])"
      ],
      "metadata": {
        "colab": {
          "base_uri": "https://localhost:8080/"
        },
        "id": "zFTjRJ4nf24y",
        "outputId": "83998895-f652-48e8-d0a6-090387ab4850"
      },
      "execution_count": null,
      "outputs": [
        {
          "output_type": "stream",
          "name": "stdout",
          "text": [
            "231 211\n",
            "132\n"
          ]
        }
      ]
    },
    {
      "cell_type": "markdown",
      "source": [
        "# 5622번 다이얼 문제"
      ],
      "metadata": {
        "id": "QZh6S6w6vGwF"
      }
    },
    {
      "cell_type": "code",
      "source": [
        "a = input()\n",
        "n = 0\n",
        "T = {3:['A','B','C'],4:['D','E','F'], 5:['G','H','I'], 6:['J','K','L'],7:['M','N','O'],\n",
        "     8:['P','Q','R','S'], 9:['T','U','V'], 10:['W','X','Y','Z']}\n",
        "\n",
        "for i in a:\n",
        "    for j,k in T.items():\n",
        "        if i in k: # i가 k안에 있으면\n",
        "            n += j\n",
        "print(n)"
      ],
      "metadata": {
        "colab": {
          "base_uri": "https://localhost:8080/"
        },
        "id": "L88P-_KPgh_1",
        "outputId": "36340bf2-a811-400e-fae2-cc2db051aecf"
      },
      "execution_count": null,
      "outputs": [
        {
          "output_type": "stream",
          "name": "stdout",
          "text": [
            "UNUCIC\n",
            "36\n"
          ]
        }
      ]
    },
    {
      "cell_type": "code",
      "source": [
        "num = ['ABC', 'DEF', 'GHI', 'JKL', 'MNO', 'PQRS', 'TUV', 'WXYZ']\n",
        "\n",
        "text = input() #WA 입력\n",
        "sum = 0\n",
        "\n",
        "for i in text: #W한번 루프 A한번 루프\n",
        "    for j in num: \n",
        "        if i in j: #i에 J가있으면 인덱스를 반환해주는 index함수\n",
        "            sum += num.index(j)+3 #3초를 더해준다 인덱스는 0부터시작이라\n",
        "\n",
        "print(sum) #13!"
      ],
      "metadata": {
        "id": "-reNZbYjnwMI",
        "colab": {
          "base_uri": "https://localhost:8080/"
        },
        "outputId": "3f500bf2-fa3d-4cd2-cd84-293f23c54249"
      },
      "execution_count": null,
      "outputs": [
        {
          "output_type": "stream",
          "name": "stdout",
          "text": [
            "UNUCIC\n",
            "36\n"
          ]
        }
      ]
    },
    {
      "cell_type": "markdown",
      "source": [
        "# 2941번 크로아티아 알파벳 문제"
      ],
      "metadata": {
        "id": "xGGENe92WcWw"
      }
    },
    {
      "cell_type": "code",
      "source": [
        "a = ['c=', 'c-', 'dz=','d-','lj','nj','s=','z=']\n",
        "text = input()\n",
        "\n",
        "for i in a: # i 에 a를 반복\n",
        "    text = text.replace(i,'a')  # i 에 text 값이 있으면 a로 변환\n",
        "print(len(text))"
      ],
      "metadata": {
        "colab": {
          "base_uri": "https://localhost:8080/"
        },
        "id": "A90U_rGwWvA5",
        "outputId": "4a4071fb-a428-4f6c-b36f-a65f630a5c1a"
      },
      "execution_count": null,
      "outputs": [
        {
          "output_type": "stream",
          "name": "stdout",
          "text": [
            "ddz=z=\n",
            "3\n"
          ]
        }
      ]
    },
    {
      "cell_type": "markdown",
      "source": [
        "# 1316번 그룹 단어 체커 문제\n",
        "\n",
        "\n",
        "\n"
      ],
      "metadata": {
        "id": "drG13YijX05g"
      }
    },
    {
      "cell_type": "code",
      "source": [
        "a = int(input())\n",
        "cnt = 0\n",
        "for i in range(a):\n",
        "    word = input()\n",
        "    for j in range(len(word)-1):\n",
        "        if word[j] != word[j+1]:\n",
        "            new = word[j+1:]\n",
        "            if word[j] in new:\n",
        "                cnt -= 1\n",
        "                break\n",
        "    cnt += 1\n",
        "print(cnt)"
      ],
      "metadata": {
        "colab": {
          "base_uri": "https://localhost:8080/"
        },
        "id": "jlnDRzn4lrZq",
        "outputId": "00ef101b-2856-4482-b2c8-14f2fa227154"
      },
      "execution_count": null,
      "outputs": [
        {
          "output_type": "stream",
          "name": "stdout",
          "text": [
            "3\n",
            "happy\n",
            "new\n",
            "year\n",
            "3\n"
          ]
        }
      ]
    },
    {
      "cell_type": "markdown",
      "source": [
        "# 1712번 손익분기점"
      ],
      "metadata": {
        "id": "E00Eaic8xPfM"
      }
    },
    {
      "cell_type": "code",
      "source": [
        "a, b, c = map(int,input().split())\n",
        "\n",
        "if b >= c:\n",
        "    print(-1)\n",
        "else:\n",
        "    print(a//(c-b)+1) # a 는 기본요금, b = 가변 금액, c = 판매비용"
      ],
      "metadata": {
        "colab": {
          "base_uri": "https://localhost:8080/"
        },
        "id": "9xp6gXSumyMa",
        "outputId": "82391a17-78e9-406a-ddfe-900345366b1f"
      },
      "execution_count": null,
      "outputs": [
        {
          "output_type": "stream",
          "name": "stdout",
          "text": [
            "1000 70 170\n",
            "11\n"
          ]
        }
      ]
    },
    {
      "cell_type": "markdown",
      "source": [
        "# 2292번 벌집 문제"
      ],
      "metadata": {
        "id": "I-0Wnsb_o2GX"
      }
    },
    {
      "cell_type": "code",
      "source": [
        "a = int(input())\n",
        "cnt = 0\n",
        "plus = 0\n",
        "route = 1\n",
        "\n",
        "while True:\n",
        "    cnt += 1\n",
        "    route = route + (6*plus)\n",
        "    if a <= route:\n",
        "        print(cnt)\n",
        "        break\n",
        "    else:\n",
        "        plus += 1"
      ],
      "metadata": {
        "colab": {
          "base_uri": "https://localhost:8080/"
        },
        "id": "YIcoP8ZyA50a",
        "outputId": "e656d9ff-7783-4212-aff4-248663bcaa00"
      },
      "execution_count": null,
      "outputs": [
        {
          "output_type": "stream",
          "name": "stdout",
          "text": [
            "13\n",
            "3\n"
          ]
        }
      ]
    },
    {
      "cell_type": "markdown",
      "source": [
        "# 10757번 큰 수 A + B 문제"
      ],
      "metadata": {
        "id": "aQJtxMWkgAKb"
      }
    },
    {
      "cell_type": "code",
      "source": [
        "a,b = map(int,input().split())\n",
        "print(a+b)"
      ],
      "metadata": {
        "colab": {
          "base_uri": "https://localhost:8080/"
        },
        "id": "EQsXfuLrKZFu",
        "outputId": "082491e0-d0b8-44da-e8ae-5111a178416d"
      },
      "execution_count": null,
      "outputs": [
        {
          "output_type": "stream",
          "name": "stdout",
          "text": [
            "51353254687 98623217699\n",
            "149976472386\n"
          ]
        }
      ]
    },
    {
      "cell_type": "markdown",
      "source": [
        "# 5717번 상근이의 친구들"
      ],
      "metadata": {
        "id": "WD3L1aV20bIv"
      }
    },
    {
      "cell_type": "code",
      "source": [
        "a = []\n",
        "\n",
        "while True:\n",
        "    m, f = map(int,input().split())\n",
        "    if m == 0 and f == 0:\n",
        "        break\n",
        "    a.append(m+f)\n",
        "\n",
        "for X in a:\n",
        "    print(X)"
      ],
      "metadata": {
        "colab": {
          "base_uri": "https://localhost:8080/"
        },
        "id": "kbolWEwDf4Zz",
        "outputId": "de2af115-8609-48fe-dafe-251b61cf1218"
      },
      "execution_count": null,
      "outputs": [
        {
          "output_type": "stream",
          "name": "stdout",
          "text": [
            "2 2\n",
            "2 3\n",
            "5 5\n",
            "1 1\n",
            "0 0\n",
            "4\n",
            "5\n",
            "10\n",
            "2\n"
          ]
        }
      ]
    },
    {
      "cell_type": "markdown",
      "source": [
        "# 2908번 상수 문제\n",
        "\n"
      ],
      "metadata": {
        "id": "a1aC_GdPX2Ye"
      }
    },
    {
      "cell_type": "code",
      "source": [
        "T = int(input())\n",
        "\n",
        "for i in range(T):\n",
        "    R ,S = input().split() # 한 개는 정수 한개는 list이기 때문에 map 사용 X\n",
        "    R = int(R)\n",
        "    S = list(S)\n",
        "    for j in range(len(S)):\n",
        "        print(S[j]*R, end = '')\n",
        "    print()"
      ],
      "metadata": {
        "colab": {
          "base_uri": "https://localhost:8080/"
        },
        "id": "cdZ8oJN70Z2E",
        "outputId": "c4355fce-ac73-4d67-f95c-2bed50103170"
      },
      "execution_count": null,
      "outputs": [
        {
          "output_type": "stream",
          "name": "stdout",
          "text": [
            "2\n",
            "3 ABC\\\n",
            "AAABBBCCC\\\\\\\n",
            "5 /HTP\n",
            "/////HHHHHTTTTTPPPPP\n"
          ]
        }
      ]
    },
    {
      "cell_type": "markdown",
      "source": [
        "# 10172번 개 문제"
      ],
      "metadata": {
        "id": "g2Jsqmh9UMW5"
      }
    },
    {
      "cell_type": "code",
      "source": [
        "print('|\\_/|')\n",
        "print('|q p|   /}')\n",
        "print('( 0 )\"\"\"\\\\')\n",
        "print('|\"^\"`    |')\n",
        "print('||_/=\\\\\\__|')"
      ],
      "metadata": {
        "colab": {
          "base_uri": "https://localhost:8080/"
        },
        "id": "JQna3vN3SF1v",
        "outputId": "6a1eb7a6-e0c9-4d89-8de1-5089350943bb"
      },
      "execution_count": null,
      "outputs": [
        {
          "output_type": "stream",
          "name": "stdout",
          "text": [
            "|\\_/|\n",
            "|q p|   /}\n",
            "( 0 )\"\"\"\\\n",
            "|\"^\"`    |\n",
            "||_/=\\\\__|\n"
          ]
        }
      ]
    },
    {
      "cell_type": "markdown",
      "source": [
        "# 2530번 인공지능 시계"
      ],
      "metadata": {
        "id": "webnYCnoT2z2"
      }
    },
    {
      "cell_type": "code",
      "source": [
        "a, b, c = map(int,input().split())\n",
        "X = int(input())\n",
        "\n",
        "a = (a + ((b + ((c + X) // 60))) // 60) % 24\n",
        "b = ((b + ((c + X) // 60))) % 60\n",
        "c = (c + X) % 60\n",
        "\n",
        "print(a, b, c)"
      ],
      "metadata": {
        "id": "9bXSAZ4wadCX",
        "colab": {
          "base_uri": "https://localhost:8080/"
        },
        "outputId": "3c09a561-151a-4ca9-9c5d-27b49b402759"
      },
      "execution_count": null,
      "outputs": [
        {
          "output_type": "stream",
          "name": "stdout",
          "text": [
            "0 0 0\n",
            "216000\n",
            "12 0 0\n"
          ]
        }
      ]
    },
    {
      "cell_type": "markdown",
      "source": [
        "# 10817번 세 수"
      ],
      "metadata": {
        "id": "Cf5gEP-kaoxT"
      }
    },
    {
      "cell_type": "code",
      "source": [
        "a = list(map(int,input().split()))\n",
        "a.sort()\n",
        "print(a[1])"
      ],
      "metadata": {
        "colab": {
          "base_uri": "https://localhost:8080/"
        },
        "id": "hqwXWEdiaw3A",
        "outputId": "b92df91b-e8b6-460b-e7ea-533424b0d6e5"
      },
      "execution_count": null,
      "outputs": [
        {
          "output_type": "stream",
          "name": "stdout",
          "text": [
            "10 200 30\n",
            "30\n"
          ]
        }
      ]
    },
    {
      "cell_type": "markdown",
      "source": [
        "# 1789번 수들의 합"
      ],
      "metadata": {
        "id": "HDVdm9uogOPO"
      }
    },
    {
      "cell_type": "code",
      "source": [
        "a = int(input())\n",
        "N = 0\n",
        "result = 0\n",
        "\n",
        "for i in range(1,a+1):\n",
        "    result += i\n",
        "    N += 1\n",
        "    if (result > a):\n",
        "        N -= 1\n",
        "        break\n",
        "print(N)"
      ],
      "metadata": {
        "colab": {
          "base_uri": "https://localhost:8080/"
        },
        "id": "_5kbEBdacxBD",
        "outputId": "79278fb5-fef8-4275-e4b1-85e0befe922c"
      },
      "execution_count": null,
      "outputs": [
        {
          "output_type": "stream",
          "name": "stdout",
          "text": [
            "200\n",
            "19\n"
          ]
        }
      ]
    },
    {
      "cell_type": "markdown",
      "source": [
        "# 2754번 학점계산 문제"
      ],
      "metadata": {
        "id": "T5e2ZdbzfakD"
      }
    },
    {
      "cell_type": "code",
      "source": [
        "a = str(input())\n",
        "\n",
        "if a == 'A+':\n",
        "    print(4.3)\n",
        "elif a == 'A0':\n",
        "    print(4.0)\n",
        "elif a == 'A-':\n",
        "    print(3.7)\n",
        "elif a == 'B+':\n",
        "    print(3.3)\n",
        "elif a == 'B0':\n",
        "    print(3.0)\n",
        "elif a == 'B-':\n",
        "    print(2.7)\n",
        "elif a == 'C+':\n",
        "    print(2.3)\n",
        "elif a == 'C0':\n",
        "    print(2.0)\n",
        "elif a == 'C-':\n",
        "    print(1.7)\n",
        "elif a == 'D+':\n",
        "    print(1.3)\n",
        "elif a == 'D0':\n",
        "    print(1.0)\n",
        "elif a == 'D-':\n",
        "    print(0.7)\n",
        "elif a == 'F':\n",
        "    print(0.0)"
      ],
      "metadata": {
        "colab": {
          "base_uri": "https://localhost:8080/"
        },
        "id": "Sw8DvsF3ddlw",
        "outputId": "745202bb-e8e5-40ca-e9ea-45bba20ced0d"
      },
      "execution_count": null,
      "outputs": [
        {
          "output_type": "stream",
          "name": "stdout",
          "text": [
            "F\n",
            "0.0\n"
          ]
        }
      ]
    },
    {
      "cell_type": "code",
      "source": [
        "a = int(input())\n",
        "cnt = 0\n",
        "plus = 0\n",
        "route = 1\n",
        "\n",
        "while True:\n",
        "    cnt += 1\n",
        "    route = route + (6*plus)\n",
        "    if a <= route:\n",
        "        print(cnt)\n",
        "        break\n",
        "    else:\n",
        "        plus += 1"
      ],
      "metadata": {
        "colab": {
          "base_uri": "https://localhost:8080/"
        },
        "id": "sNPd3zPNeJRG",
        "outputId": "7533709a-bbad-41e4-cde4-20f2a3fc3f04"
      },
      "execution_count": null,
      "outputs": [
        {
          "output_type": "stream",
          "name": "stdout",
          "text": [
            "13\n",
            "3\n"
          ]
        }
      ]
    },
    {
      "cell_type": "markdown",
      "source": [
        "# 5355번 화성 수학 문제"
      ],
      "metadata": {
        "id": "RXP1bHnmoaeM"
      }
    },
    {
      "cell_type": "code",
      "source": [
        "t = int(input())\n",
        "\n",
        "for a in range(t):\n",
        "    X = list(input().split())\n",
        "    Y = float(X[0])\n",
        "\n",
        "    for i in range(1, len(X)):\n",
        "        if X[i] == '@':\n",
        "            Y = Y * 3\n",
        "        elif X[i] == '%':\n",
        "            Y = Y + 5\n",
        "        elif X[i] == '#':\n",
        "            Y = Y - 7 \n",
        "    print('%0.2f'%Y)"
      ],
      "metadata": {
        "id": "QAs-FZ9Xo37z",
        "colab": {
          "base_uri": "https://localhost:8080/"
        },
        "outputId": "a4f8c27f-984b-4458-e6d1-560b81fee0de"
      },
      "execution_count": 18,
      "outputs": [
        {
          "output_type": "stream",
          "name": "stdout",
          "text": [
            "3\n",
            "3 @ %\n",
            "14.00\n",
            "10.4 # % @\n",
            "25.20\n",
            "8 #\n",
            "1.00\n"
          ]
        }
      ]
    },
    {
      "cell_type": "code",
      "source": [
        ""
      ],
      "metadata": {
        "id": "CRJdSaQootIb"
      },
      "execution_count": 8,
      "outputs": []
    }
  ]
}